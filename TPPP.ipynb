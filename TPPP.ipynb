{
  "nbformat": 4,
  "nbformat_minor": 0,
  "metadata": {
    "colab": {
      "provenance": []
    },
    "kernelspec": {
      "name": "python3",
      "display_name": "Python 3"
    },
    "language_info": {
      "name": "python"
    }
  },
  "cells": [
    {
      "cell_type": "markdown",
      "source": [
        "\n",
        "\n",
        "# **1. THE PROBLEM**\n"
      ],
      "metadata": {
        "id": "E57JvqttBPZA"
      }
    },
    {
      "cell_type": "markdown",
      "source": [
        "- The most common way to measure scoring in the NBA (National Basketball Association) is through a statistic called points per game. This statistic is calculated by taking the total points a player scored throughout the season and dividing it by the number of games played.\n",
        "- This statistic is great for getting a rough idea of how good a player is at scoring, **but the issue with this stat that it is not standarized.** A player can boost their points per game (ppg) by taking a lot of shot attempts, playing more minutes than the average player, etc.\n",
        "***This project seeks to fix this problem by calculating a new, unique, and intuitive statistic called true points per possession (tppp) which seeks to improve upon points per game by standardizing it.**\n",
        "- After calcualting this new statistic, I will be testing its effectiveness with regression analysis.\n",
        "- [This youtube video](https://www.youtube.com/watch?v=6WMNEt7gIHE&t=264s) made by me sums up the points of this notebook without code.\n"
      ],
      "metadata": {
        "id": "q-Urqx1HgoDL"
      }
    },
    {
      "cell_type": "markdown",
      "source": [
        "\n",
        "**- The first step is to import the dataset as well as all of the libraries that I will use for my analysis.**"
      ],
      "metadata": {
        "id": "LsMuAj30hLul"
      }
    },
    {
      "cell_type": "code",
      "execution_count": null,
      "metadata": {
        "colab": {
          "base_uri": "https://localhost:8080/"
        },
        "id": "pLzix1Fa_jTg",
        "outputId": "a71a4180-d172-46c8-94d6-ac13070b0680"
      },
      "outputs": [
        {
          "output_type": "stream",
          "name": "stdout",
          "text": [
            "Mounted at /content/drive\n"
          ]
        }
      ],
      "source": [
        "from google.colab import drive # link my google drive to this colab notebook\n",
        "drive.mount('/content/drive')"
      ]
    },
    {
      "cell_type": "code",
      "source": [
        "import pandas as pd # pandas is the main library I will be preforming my analysis with\n",
        "import matplotlib.pyplot as plt # for visualization\n",
        "import numpy as np # for regression analysis\n",
        "import seaborn as sns # for visualization"
      ],
      "metadata": {
        "id": "KNQozNXb_lJe"
      },
      "execution_count": null,
      "outputs": []
    },
    {
      "cell_type": "markdown",
      "source": [
        "\n",
        "# **2. DATA CLEANING**"
      ],
      "metadata": {
        "id": "RZXx_c9UgyYl"
      }
    },
    {
      "cell_type": "markdown",
      "source": [
        "- **The spreadsheet that I am using is the game log of Damian Lillard since 2021. I chose to use the Trailblazers Point Guard Damian Lillard because he rarely misses games, and has a very high points per game.**\n",
        "- **The data set looks like this:**"
      ],
      "metadata": {
        "id": "XRt2K7gOgSb7"
      }
    },
    {
      "cell_type": "code",
      "source": [
        "dataframe = pd.read_excel('/content/drive/MyDrive/Dame Lillard 2021 Game Log.xlsx') # put the spreadsheet into a data frame\n",
        "dataframe.head(8)"
      ],
      "metadata": {
        "id": "hSHAkxT9_p1W",
        "outputId": "4ba93fbe-79e3-405b-eae5-19c7b2373bad",
        "colab": {
          "base_uri": "https://localhost:8080/",
          "height": 506
        }
      },
      "execution_count": null,
      "outputs": [
        {
          "output_type": "execute_result",
          "data": {
            "text/plain": [
              "       Unnamed: 0            NAME       DATE       TM Unnamed: 4      OPP  \\\n",
              "0  Damian Lillard  Damian Lillard 2023-03-22  POR POR          @  UTA UTA   \n",
              "1  Damian Lillard  Damian Lillard 2023-03-19  POR POR         vs  LAC LAC   \n",
              "2  Damian Lillard  Damian Lillard 2023-03-17  POR POR         vs  BOS BOS   \n",
              "3  Damian Lillard  Damian Lillard 2023-03-14  POR POR         vs  NYK NYK   \n",
              "4  Damian Lillard  Damian Lillard 2023-03-10  POR POR          @  PHI PHI   \n",
              "5  Damian Lillard  Damian Lillard 2023-03-08  POR POR          @  BOS BOS   \n",
              "6  Damian Lillard  Damian Lillard 2023-03-06  POR POR          @  DET DET   \n",
              "7  Damian Lillard  Damian Lillard 2023-03-05  POR POR          @  ORL ORL   \n",
              "\n",
              "  RESULT  TEAM FGA  PTS/POSS  PTS  ...  FGA   FG%  3PM  3PA   3P%  FTM  FTA  \\\n",
              "0      W        93      1.11   30  ...   19  42.1    2   10  20.0   12   14   \n",
              "1      L        82      0.87   21  ...   17  23.5    1    8  12.5   12   13   \n",
              "2      L        79      1.27   41  ...   23  52.2    6   15  40.0   11   14   \n",
              "3      L        99      1.27   38  ...   26  42.3    8   17  47.1    8    9   \n",
              "4      L        80      1.03   22  ...   15  40.0    2    8  25.0    8    8   \n",
              "5      L        82      1.09   27  ...   16  43.8    2    8  25.0   11   11   \n",
              "6      W        78      0.89   31  ...   28  35.7    6   14  42.9    5    6   \n",
              "7      W        83      1.18   41  ...   25  40.0    4   16  25.0   17   20   \n",
              "\n",
              "     FT%  PF  '+/-  \n",
              "0   85.7   1    18  \n",
              "1   92.3   0   -20  \n",
              "2   78.6   3   -14  \n",
              "3   88.9   3    -5  \n",
              "4  100.0   2     3  \n",
              "5  100.0   2   -16  \n",
              "6   83.3   0     8  \n",
              "7   85.0   2    10  \n",
              "\n",
              "[8 rows x 28 columns]"
            ],
            "text/html": [
              "\n",
              "  <div id=\"df-7db55216-a715-48b7-bdea-934e270b6cca\" class=\"colab-df-container\">\n",
              "    <div>\n",
              "<style scoped>\n",
              "    .dataframe tbody tr th:only-of-type {\n",
              "        vertical-align: middle;\n",
              "    }\n",
              "\n",
              "    .dataframe tbody tr th {\n",
              "        vertical-align: top;\n",
              "    }\n",
              "\n",
              "    .dataframe thead th {\n",
              "        text-align: right;\n",
              "    }\n",
              "</style>\n",
              "<table border=\"1\" class=\"dataframe\">\n",
              "  <thead>\n",
              "    <tr style=\"text-align: right;\">\n",
              "      <th></th>\n",
              "      <th>Unnamed: 0</th>\n",
              "      <th>NAME</th>\n",
              "      <th>DATE</th>\n",
              "      <th>TM</th>\n",
              "      <th>Unnamed: 4</th>\n",
              "      <th>OPP</th>\n",
              "      <th>RESULT</th>\n",
              "      <th>TEAM FGA</th>\n",
              "      <th>PTS/POSS</th>\n",
              "      <th>PTS</th>\n",
              "      <th>...</th>\n",
              "      <th>FGA</th>\n",
              "      <th>FG%</th>\n",
              "      <th>3PM</th>\n",
              "      <th>3PA</th>\n",
              "      <th>3P%</th>\n",
              "      <th>FTM</th>\n",
              "      <th>FTA</th>\n",
              "      <th>FT%</th>\n",
              "      <th>PF</th>\n",
              "      <th>'+/-</th>\n",
              "    </tr>\n",
              "  </thead>\n",
              "  <tbody>\n",
              "    <tr>\n",
              "      <th>0</th>\n",
              "      <td>Damian Lillard</td>\n",
              "      <td>Damian Lillard</td>\n",
              "      <td>2023-03-22</td>\n",
              "      <td>POR POR</td>\n",
              "      <td>@</td>\n",
              "      <td>UTA UTA</td>\n",
              "      <td>W</td>\n",
              "      <td>93</td>\n",
              "      <td>1.11</td>\n",
              "      <td>30</td>\n",
              "      <td>...</td>\n",
              "      <td>19</td>\n",
              "      <td>42.1</td>\n",
              "      <td>2</td>\n",
              "      <td>10</td>\n",
              "      <td>20.0</td>\n",
              "      <td>12</td>\n",
              "      <td>14</td>\n",
              "      <td>85.7</td>\n",
              "      <td>1</td>\n",
              "      <td>18</td>\n",
              "    </tr>\n",
              "    <tr>\n",
              "      <th>1</th>\n",
              "      <td>Damian Lillard</td>\n",
              "      <td>Damian Lillard</td>\n",
              "      <td>2023-03-19</td>\n",
              "      <td>POR POR</td>\n",
              "      <td>vs</td>\n",
              "      <td>LAC LAC</td>\n",
              "      <td>L</td>\n",
              "      <td>82</td>\n",
              "      <td>0.87</td>\n",
              "      <td>21</td>\n",
              "      <td>...</td>\n",
              "      <td>17</td>\n",
              "      <td>23.5</td>\n",
              "      <td>1</td>\n",
              "      <td>8</td>\n",
              "      <td>12.5</td>\n",
              "      <td>12</td>\n",
              "      <td>13</td>\n",
              "      <td>92.3</td>\n",
              "      <td>0</td>\n",
              "      <td>-20</td>\n",
              "    </tr>\n",
              "    <tr>\n",
              "      <th>2</th>\n",
              "      <td>Damian Lillard</td>\n",
              "      <td>Damian Lillard</td>\n",
              "      <td>2023-03-17</td>\n",
              "      <td>POR POR</td>\n",
              "      <td>vs</td>\n",
              "      <td>BOS BOS</td>\n",
              "      <td>L</td>\n",
              "      <td>79</td>\n",
              "      <td>1.27</td>\n",
              "      <td>41</td>\n",
              "      <td>...</td>\n",
              "      <td>23</td>\n",
              "      <td>52.2</td>\n",
              "      <td>6</td>\n",
              "      <td>15</td>\n",
              "      <td>40.0</td>\n",
              "      <td>11</td>\n",
              "      <td>14</td>\n",
              "      <td>78.6</td>\n",
              "      <td>3</td>\n",
              "      <td>-14</td>\n",
              "    </tr>\n",
              "    <tr>\n",
              "      <th>3</th>\n",
              "      <td>Damian Lillard</td>\n",
              "      <td>Damian Lillard</td>\n",
              "      <td>2023-03-14</td>\n",
              "      <td>POR POR</td>\n",
              "      <td>vs</td>\n",
              "      <td>NYK NYK</td>\n",
              "      <td>L</td>\n",
              "      <td>99</td>\n",
              "      <td>1.27</td>\n",
              "      <td>38</td>\n",
              "      <td>...</td>\n",
              "      <td>26</td>\n",
              "      <td>42.3</td>\n",
              "      <td>8</td>\n",
              "      <td>17</td>\n",
              "      <td>47.1</td>\n",
              "      <td>8</td>\n",
              "      <td>9</td>\n",
              "      <td>88.9</td>\n",
              "      <td>3</td>\n",
              "      <td>-5</td>\n",
              "    </tr>\n",
              "    <tr>\n",
              "      <th>4</th>\n",
              "      <td>Damian Lillard</td>\n",
              "      <td>Damian Lillard</td>\n",
              "      <td>2023-03-10</td>\n",
              "      <td>POR POR</td>\n",
              "      <td>@</td>\n",
              "      <td>PHI PHI</td>\n",
              "      <td>L</td>\n",
              "      <td>80</td>\n",
              "      <td>1.03</td>\n",
              "      <td>22</td>\n",
              "      <td>...</td>\n",
              "      <td>15</td>\n",
              "      <td>40.0</td>\n",
              "      <td>2</td>\n",
              "      <td>8</td>\n",
              "      <td>25.0</td>\n",
              "      <td>8</td>\n",
              "      <td>8</td>\n",
              "      <td>100.0</td>\n",
              "      <td>2</td>\n",
              "      <td>3</td>\n",
              "    </tr>\n",
              "    <tr>\n",
              "      <th>5</th>\n",
              "      <td>Damian Lillard</td>\n",
              "      <td>Damian Lillard</td>\n",
              "      <td>2023-03-08</td>\n",
              "      <td>POR POR</td>\n",
              "      <td>@</td>\n",
              "      <td>BOS BOS</td>\n",
              "      <td>L</td>\n",
              "      <td>82</td>\n",
              "      <td>1.09</td>\n",
              "      <td>27</td>\n",
              "      <td>...</td>\n",
              "      <td>16</td>\n",
              "      <td>43.8</td>\n",
              "      <td>2</td>\n",
              "      <td>8</td>\n",
              "      <td>25.0</td>\n",
              "      <td>11</td>\n",
              "      <td>11</td>\n",
              "      <td>100.0</td>\n",
              "      <td>2</td>\n",
              "      <td>-16</td>\n",
              "    </tr>\n",
              "    <tr>\n",
              "      <th>6</th>\n",
              "      <td>Damian Lillard</td>\n",
              "      <td>Damian Lillard</td>\n",
              "      <td>2023-03-06</td>\n",
              "      <td>POR POR</td>\n",
              "      <td>@</td>\n",
              "      <td>DET DET</td>\n",
              "      <td>W</td>\n",
              "      <td>78</td>\n",
              "      <td>0.89</td>\n",
              "      <td>31</td>\n",
              "      <td>...</td>\n",
              "      <td>28</td>\n",
              "      <td>35.7</td>\n",
              "      <td>6</td>\n",
              "      <td>14</td>\n",
              "      <td>42.9</td>\n",
              "      <td>5</td>\n",
              "      <td>6</td>\n",
              "      <td>83.3</td>\n",
              "      <td>0</td>\n",
              "      <td>8</td>\n",
              "    </tr>\n",
              "    <tr>\n",
              "      <th>7</th>\n",
              "      <td>Damian Lillard</td>\n",
              "      <td>Damian Lillard</td>\n",
              "      <td>2023-03-05</td>\n",
              "      <td>POR POR</td>\n",
              "      <td>@</td>\n",
              "      <td>ORL ORL</td>\n",
              "      <td>W</td>\n",
              "      <td>83</td>\n",
              "      <td>1.18</td>\n",
              "      <td>41</td>\n",
              "      <td>...</td>\n",
              "      <td>25</td>\n",
              "      <td>40.0</td>\n",
              "      <td>4</td>\n",
              "      <td>16</td>\n",
              "      <td>25.0</td>\n",
              "      <td>17</td>\n",
              "      <td>20</td>\n",
              "      <td>85.0</td>\n",
              "      <td>2</td>\n",
              "      <td>10</td>\n",
              "    </tr>\n",
              "  </tbody>\n",
              "</table>\n",
              "<p>8 rows × 28 columns</p>\n",
              "</div>\n",
              "    <div class=\"colab-df-buttons\">\n",
              "\n",
              "  <div class=\"colab-df-container\">\n",
              "    <button class=\"colab-df-convert\" onclick=\"convertToInteractive('df-7db55216-a715-48b7-bdea-934e270b6cca')\"\n",
              "            title=\"Convert this dataframe to an interactive table.\"\n",
              "            style=\"display:none;\">\n",
              "\n",
              "  <svg xmlns=\"http://www.w3.org/2000/svg\" height=\"24px\" viewBox=\"0 -960 960 960\">\n",
              "    <path d=\"M120-120v-720h720v720H120Zm60-500h600v-160H180v160Zm220 220h160v-160H400v160Zm0 220h160v-160H400v160ZM180-400h160v-160H180v160Zm440 0h160v-160H620v160ZM180-180h160v-160H180v160Zm440 0h160v-160H620v160Z\"/>\n",
              "  </svg>\n",
              "    </button>\n",
              "\n",
              "  <style>\n",
              "    .colab-df-container {\n",
              "      display:flex;\n",
              "      gap: 12px;\n",
              "    }\n",
              "\n",
              "    .colab-df-convert {\n",
              "      background-color: #E8F0FE;\n",
              "      border: none;\n",
              "      border-radius: 50%;\n",
              "      cursor: pointer;\n",
              "      display: none;\n",
              "      fill: #1967D2;\n",
              "      height: 32px;\n",
              "      padding: 0 0 0 0;\n",
              "      width: 32px;\n",
              "    }\n",
              "\n",
              "    .colab-df-convert:hover {\n",
              "      background-color: #E2EBFA;\n",
              "      box-shadow: 0px 1px 2px rgba(60, 64, 67, 0.3), 0px 1px 3px 1px rgba(60, 64, 67, 0.15);\n",
              "      fill: #174EA6;\n",
              "    }\n",
              "\n",
              "    .colab-df-buttons div {\n",
              "      margin-bottom: 4px;\n",
              "    }\n",
              "\n",
              "    [theme=dark] .colab-df-convert {\n",
              "      background-color: #3B4455;\n",
              "      fill: #D2E3FC;\n",
              "    }\n",
              "\n",
              "    [theme=dark] .colab-df-convert:hover {\n",
              "      background-color: #434B5C;\n",
              "      box-shadow: 0px 1px 3px 1px rgba(0, 0, 0, 0.15);\n",
              "      filter: drop-shadow(0px 1px 2px rgba(0, 0, 0, 0.3));\n",
              "      fill: #FFFFFF;\n",
              "    }\n",
              "  </style>\n",
              "\n",
              "    <script>\n",
              "      const buttonEl =\n",
              "        document.querySelector('#df-7db55216-a715-48b7-bdea-934e270b6cca button.colab-df-convert');\n",
              "      buttonEl.style.display =\n",
              "        google.colab.kernel.accessAllowed ? 'block' : 'none';\n",
              "\n",
              "      async function convertToInteractive(key) {\n",
              "        const element = document.querySelector('#df-7db55216-a715-48b7-bdea-934e270b6cca');\n",
              "        const dataTable =\n",
              "          await google.colab.kernel.invokeFunction('convertToInteractive',\n",
              "                                                    [key], {});\n",
              "        if (!dataTable) return;\n",
              "\n",
              "        const docLinkHtml = 'Like what you see? Visit the ' +\n",
              "          '<a target=\"_blank\" href=https://colab.research.google.com/notebooks/data_table.ipynb>data table notebook</a>'\n",
              "          + ' to learn more about interactive tables.';\n",
              "        element.innerHTML = '';\n",
              "        dataTable['output_type'] = 'display_data';\n",
              "        await google.colab.output.renderOutput(dataTable, element);\n",
              "        const docLink = document.createElement('div');\n",
              "        docLink.innerHTML = docLinkHtml;\n",
              "        element.appendChild(docLink);\n",
              "      }\n",
              "    </script>\n",
              "  </div>\n",
              "\n",
              "\n",
              "<div id=\"df-b7c2d8d9-1e55-4a6c-87aa-7c70f25c92a5\">\n",
              "  <button class=\"colab-df-quickchart\" onclick=\"quickchart('df-b7c2d8d9-1e55-4a6c-87aa-7c70f25c92a5')\"\n",
              "            title=\"Suggest charts.\"\n",
              "            style=\"display:none;\">\n",
              "\n",
              "<svg xmlns=\"http://www.w3.org/2000/svg\" height=\"24px\"viewBox=\"0 0 24 24\"\n",
              "     width=\"24px\">\n",
              "    <g>\n",
              "        <path d=\"M19 3H5c-1.1 0-2 .9-2 2v14c0 1.1.9 2 2 2h14c1.1 0 2-.9 2-2V5c0-1.1-.9-2-2-2zM9 17H7v-7h2v7zm4 0h-2V7h2v10zm4 0h-2v-4h2v4z\"/>\n",
              "    </g>\n",
              "</svg>\n",
              "  </button>\n",
              "\n",
              "<style>\n",
              "  .colab-df-quickchart {\n",
              "    background-color: #E8F0FE;\n",
              "    border: none;\n",
              "    border-radius: 50%;\n",
              "    cursor: pointer;\n",
              "    display: none;\n",
              "    fill: #1967D2;\n",
              "    height: 32px;\n",
              "    padding: 0 0 0 0;\n",
              "    width: 32px;\n",
              "  }\n",
              "\n",
              "  .colab-df-quickchart:hover {\n",
              "    background-color: #E2EBFA;\n",
              "    box-shadow: 0px 1px 2px rgba(60, 64, 67, 0.3), 0px 1px 3px 1px rgba(60, 64, 67, 0.15);\n",
              "    fill: #174EA6;\n",
              "  }\n",
              "\n",
              "  [theme=dark] .colab-df-quickchart {\n",
              "    background-color: #3B4455;\n",
              "    fill: #D2E3FC;\n",
              "  }\n",
              "\n",
              "  [theme=dark] .colab-df-quickchart:hover {\n",
              "    background-color: #434B5C;\n",
              "    box-shadow: 0px 1px 3px 1px rgba(0, 0, 0, 0.15);\n",
              "    filter: drop-shadow(0px 1px 2px rgba(0, 0, 0, 0.3));\n",
              "    fill: #FFFFFF;\n",
              "  }\n",
              "</style>\n",
              "\n",
              "  <script>\n",
              "    async function quickchart(key) {\n",
              "      const charts = await google.colab.kernel.invokeFunction(\n",
              "          'suggestCharts', [key], {});\n",
              "    }\n",
              "    (() => {\n",
              "      let quickchartButtonEl =\n",
              "        document.querySelector('#df-b7c2d8d9-1e55-4a6c-87aa-7c70f25c92a5 button');\n",
              "      quickchartButtonEl.style.display =\n",
              "        google.colab.kernel.accessAllowed ? 'block' : 'none';\n",
              "    })();\n",
              "  </script>\n",
              "</div>\n",
              "    </div>\n",
              "  </div>\n"
            ]
          },
          "metadata": {},
          "execution_count": 5
        }
      ]
    },
    {
      "cell_type": "markdown",
      "source": [
        "**2A.) The spreadsheet came with a duplicate name column, so I must drop it.**\n",
        "\n",
        "\n"
      ],
      "metadata": {
        "id": "mmikTojDhXKg"
      }
    },
    {
      "cell_type": "code",
      "source": [
        "dataframe = dataframe.drop(dataframe.columns[0], axis=1) # clear the duplicate name column"
      ],
      "metadata": {
        "id": "8B1m6_He_-ap"
      },
      "execution_count": null,
      "outputs": []
    },
    {
      "cell_type": "markdown",
      "source": [
        "**2B.) The spreadsheet has 'W' for wins and 'L' for losses. Python/Pandas works much better if we make this binary (1 and 0), so we are making W = 1, and L = 0. Additionally, there are some random spaces in this 'RESULT' Column, so we must account for this as well.**"
      ],
      "metadata": {
        "id": "BO9l9eeVhh1y"
      }
    },
    {
      "cell_type": "code",
      "source": [
        "dataframe['RESULT'] = dataframe['RESULT'].replace({'W':1,'L':0,'W ':1,'L ':0}) # replaces W with 0 and L with 1 to make analysis easier later on"
      ],
      "metadata": {
        "id": "PDmKAW5VFk9I"
      },
      "execution_count": null,
      "outputs": []
    },
    {
      "cell_type": "markdown",
      "source": [
        "**2C.) I am making a '% OF TEAM SHOTS TAKEN' column that will be used later for my analysis. More on this later**"
      ],
      "metadata": {
        "id": "cmucFlgyirTy"
      }
    },
    {
      "cell_type": "code",
      "source": [
        "dataframe['% OF TEAM SHOTS TAKEN'] = dataframe['FGA'] / dataframe['TEAM FGA'] # creates the % of team shots taken statistic that is needed to calculate TPPP\n"
      ],
      "metadata": {
        "id": "tBj9PSYUAd_O"
      },
      "execution_count": null,
      "outputs": []
    },
    {
      "cell_type": "code",
      "source": [
        "dataframe['% OF TEAM SHOTS TAKEN'].mean()"
      ],
      "metadata": {
        "colab": {
          "base_uri": "https://localhost:8080/"
        },
        "id": "_pYrxfZLjPy2",
        "outputId": "fc11d35c-2431-4ada-f44e-9c7bf40c9d59"
      },
      "execution_count": null,
      "outputs": [
        {
          "output_type": "execute_result",
          "data": {
            "text/plain": [
              "0.23297213386153887"
            ]
          },
          "metadata": {},
          "execution_count": 21
        }
      ]
    },
    {
      "cell_type": "markdown",
      "source": [
        "**2D.) Here I am calcualting a statistic called Points Per Posession. More on this in the next section**\n",
        "\n",
        "---\n",
        "\n"
      ],
      "metadata": {
        "id": "z2_hGsYyjXyK"
      }
    },
    {
      "cell_type": "code",
      "source": [
        "dataframe['PTS/POSS'] = dataframe['PTS'] / dataframe['POSS'] # creates the pts/team poss column\n"
      ],
      "metadata": {
        "id": "rWmkazpcdvAF"
      },
      "execution_count": null,
      "outputs": []
    },
    {
      "cell_type": "code",
      "source": [
        "dataframe['PTS/POSS'].mean() # mean pts/poss of damian lillard"
      ],
      "metadata": {
        "colab": {
          "base_uri": "https://localhost:8080/"
        },
        "id": "2Ke_-sVbd_J6",
        "outputId": "4b42fc62-8ecf-4d77-8281-5dfd3358b442"
      },
      "execution_count": null,
      "outputs": [
        {
          "output_type": "execute_result",
          "data": {
            "text/plain": [
              "0.29823958705390335"
            ]
          },
          "metadata": {},
          "execution_count": 24
        }
      ]
    },
    {
      "cell_type": "code",
      "source": [
        "dataframe.head(5)"
      ],
      "metadata": {
        "colab": {
          "base_uri": "https://localhost:8080/",
          "height": 438
        },
        "id": "Hrymd3M1w4js",
        "outputId": "93165026-a1a1-405c-8937-d1ced47db8b4"
      },
      "execution_count": null,
      "outputs": [
        {
          "output_type": "execute_result",
          "data": {
            "text/plain": [
              "        DATE       TM Unnamed: 4      OPP  RESULT  TEAM FGA  PTS/POSS  PTS  \\\n",
              "0 2023-03-22  POR POR          @  UTA UTA       1        93  0.284091   30   \n",
              "1 2023-03-19  POR POR         vs  LAC LAC       0        82  0.229258   21   \n",
              "2 2023-03-17  POR POR         vs  BOS BOS       0        79  0.411647   41   \n",
              "3 2023-03-14  POR POR         vs  NYK NYK       0        99  0.381910   38   \n",
              "4 2023-03-10  POR POR          @  PHI PHI       0        80  0.235546   22   \n",
              "\n",
              "    POSS  MIN  ...   FG%  3PM  3PA   3P%  FTM  FTA    FT%  PF  '+/-  \\\n",
              "0  105.6   34  ...  42.1    2   10  20.0   12   14   85.7   1    18   \n",
              "1   91.6   39  ...  23.5    1    8  12.5   12   13   92.3   0   -20   \n",
              "2   99.6   37  ...  52.2    6   15  40.0   11   14   78.6   3   -14   \n",
              "3   99.5   39  ...  42.3    8   17  47.1    8    9   88.9   3    -5   \n",
              "4   93.4   39  ...  40.0    2    8  25.0    8    8  100.0   2     3   \n",
              "\n",
              "   % OF TEAM SHOTS TAKEN  \n",
              "0               0.204301  \n",
              "1               0.207317  \n",
              "2               0.291139  \n",
              "3               0.262626  \n",
              "4               0.187500  \n",
              "\n",
              "[5 rows x 27 columns]"
            ],
            "text/html": [
              "\n",
              "\n",
              "  <div id=\"df-d6746078-b2ea-47f2-8455-a6fd8f14f099\">\n",
              "    <div class=\"colab-df-container\">\n",
              "      <div>\n",
              "<style scoped>\n",
              "    .dataframe tbody tr th:only-of-type {\n",
              "        vertical-align: middle;\n",
              "    }\n",
              "\n",
              "    .dataframe tbody tr th {\n",
              "        vertical-align: top;\n",
              "    }\n",
              "\n",
              "    .dataframe thead th {\n",
              "        text-align: right;\n",
              "    }\n",
              "</style>\n",
              "<table border=\"1\" class=\"dataframe\">\n",
              "  <thead>\n",
              "    <tr style=\"text-align: right;\">\n",
              "      <th></th>\n",
              "      <th>DATE</th>\n",
              "      <th>TM</th>\n",
              "      <th>Unnamed: 4</th>\n",
              "      <th>OPP</th>\n",
              "      <th>RESULT</th>\n",
              "      <th>TEAM FGA</th>\n",
              "      <th>PTS/POSS</th>\n",
              "      <th>PTS</th>\n",
              "      <th>POSS</th>\n",
              "      <th>MIN</th>\n",
              "      <th>...</th>\n",
              "      <th>FG%</th>\n",
              "      <th>3PM</th>\n",
              "      <th>3PA</th>\n",
              "      <th>3P%</th>\n",
              "      <th>FTM</th>\n",
              "      <th>FTA</th>\n",
              "      <th>FT%</th>\n",
              "      <th>PF</th>\n",
              "      <th>'+/-</th>\n",
              "      <th>% OF TEAM SHOTS TAKEN</th>\n",
              "    </tr>\n",
              "  </thead>\n",
              "  <tbody>\n",
              "    <tr>\n",
              "      <th>0</th>\n",
              "      <td>2023-03-22</td>\n",
              "      <td>POR POR</td>\n",
              "      <td>@</td>\n",
              "      <td>UTA UTA</td>\n",
              "      <td>1</td>\n",
              "      <td>93</td>\n",
              "      <td>0.284091</td>\n",
              "      <td>30</td>\n",
              "      <td>105.6</td>\n",
              "      <td>34</td>\n",
              "      <td>...</td>\n",
              "      <td>42.1</td>\n",
              "      <td>2</td>\n",
              "      <td>10</td>\n",
              "      <td>20.0</td>\n",
              "      <td>12</td>\n",
              "      <td>14</td>\n",
              "      <td>85.7</td>\n",
              "      <td>1</td>\n",
              "      <td>18</td>\n",
              "      <td>0.204301</td>\n",
              "    </tr>\n",
              "    <tr>\n",
              "      <th>1</th>\n",
              "      <td>2023-03-19</td>\n",
              "      <td>POR POR</td>\n",
              "      <td>vs</td>\n",
              "      <td>LAC LAC</td>\n",
              "      <td>0</td>\n",
              "      <td>82</td>\n",
              "      <td>0.229258</td>\n",
              "      <td>21</td>\n",
              "      <td>91.6</td>\n",
              "      <td>39</td>\n",
              "      <td>...</td>\n",
              "      <td>23.5</td>\n",
              "      <td>1</td>\n",
              "      <td>8</td>\n",
              "      <td>12.5</td>\n",
              "      <td>12</td>\n",
              "      <td>13</td>\n",
              "      <td>92.3</td>\n",
              "      <td>0</td>\n",
              "      <td>-20</td>\n",
              "      <td>0.207317</td>\n",
              "    </tr>\n",
              "    <tr>\n",
              "      <th>2</th>\n",
              "      <td>2023-03-17</td>\n",
              "      <td>POR POR</td>\n",
              "      <td>vs</td>\n",
              "      <td>BOS BOS</td>\n",
              "      <td>0</td>\n",
              "      <td>79</td>\n",
              "      <td>0.411647</td>\n",
              "      <td>41</td>\n",
              "      <td>99.6</td>\n",
              "      <td>37</td>\n",
              "      <td>...</td>\n",
              "      <td>52.2</td>\n",
              "      <td>6</td>\n",
              "      <td>15</td>\n",
              "      <td>40.0</td>\n",
              "      <td>11</td>\n",
              "      <td>14</td>\n",
              "      <td>78.6</td>\n",
              "      <td>3</td>\n",
              "      <td>-14</td>\n",
              "      <td>0.291139</td>\n",
              "    </tr>\n",
              "    <tr>\n",
              "      <th>3</th>\n",
              "      <td>2023-03-14</td>\n",
              "      <td>POR POR</td>\n",
              "      <td>vs</td>\n",
              "      <td>NYK NYK</td>\n",
              "      <td>0</td>\n",
              "      <td>99</td>\n",
              "      <td>0.381910</td>\n",
              "      <td>38</td>\n",
              "      <td>99.5</td>\n",
              "      <td>39</td>\n",
              "      <td>...</td>\n",
              "      <td>42.3</td>\n",
              "      <td>8</td>\n",
              "      <td>17</td>\n",
              "      <td>47.1</td>\n",
              "      <td>8</td>\n",
              "      <td>9</td>\n",
              "      <td>88.9</td>\n",
              "      <td>3</td>\n",
              "      <td>-5</td>\n",
              "      <td>0.262626</td>\n",
              "    </tr>\n",
              "    <tr>\n",
              "      <th>4</th>\n",
              "      <td>2023-03-10</td>\n",
              "      <td>POR POR</td>\n",
              "      <td>@</td>\n",
              "      <td>PHI PHI</td>\n",
              "      <td>0</td>\n",
              "      <td>80</td>\n",
              "      <td>0.235546</td>\n",
              "      <td>22</td>\n",
              "      <td>93.4</td>\n",
              "      <td>39</td>\n",
              "      <td>...</td>\n",
              "      <td>40.0</td>\n",
              "      <td>2</td>\n",
              "      <td>8</td>\n",
              "      <td>25.0</td>\n",
              "      <td>8</td>\n",
              "      <td>8</td>\n",
              "      <td>100.0</td>\n",
              "      <td>2</td>\n",
              "      <td>3</td>\n",
              "      <td>0.187500</td>\n",
              "    </tr>\n",
              "  </tbody>\n",
              "</table>\n",
              "<p>5 rows × 27 columns</p>\n",
              "</div>\n",
              "      <button class=\"colab-df-convert\" onclick=\"convertToInteractive('df-d6746078-b2ea-47f2-8455-a6fd8f14f099')\"\n",
              "              title=\"Convert this dataframe to an interactive table.\"\n",
              "              style=\"display:none;\">\n",
              "\n",
              "  <svg xmlns=\"http://www.w3.org/2000/svg\" height=\"24px\"viewBox=\"0 0 24 24\"\n",
              "       width=\"24px\">\n",
              "    <path d=\"M0 0h24v24H0V0z\" fill=\"none\"/>\n",
              "    <path d=\"M18.56 5.44l.94 2.06.94-2.06 2.06-.94-2.06-.94-.94-2.06-.94 2.06-2.06.94zm-11 1L8.5 8.5l.94-2.06 2.06-.94-2.06-.94L8.5 2.5l-.94 2.06-2.06.94zm10 10l.94 2.06.94-2.06 2.06-.94-2.06-.94-.94-2.06-.94 2.06-2.06.94z\"/><path d=\"M17.41 7.96l-1.37-1.37c-.4-.4-.92-.59-1.43-.59-.52 0-1.04.2-1.43.59L10.3 9.45l-7.72 7.72c-.78.78-.78 2.05 0 2.83L4 21.41c.39.39.9.59 1.41.59.51 0 1.02-.2 1.41-.59l7.78-7.78 2.81-2.81c.8-.78.8-2.07 0-2.86zM5.41 20L4 18.59l7.72-7.72 1.47 1.35L5.41 20z\"/>\n",
              "  </svg>\n",
              "      </button>\n",
              "\n",
              "\n",
              "\n",
              "    <div id=\"df-3f1d25d8-a57f-4e74-b2ee-713856c4c1ee\">\n",
              "      <button class=\"colab-df-quickchart\" onclick=\"quickchart('df-3f1d25d8-a57f-4e74-b2ee-713856c4c1ee')\"\n",
              "              title=\"Suggest charts.\"\n",
              "              style=\"display:none;\">\n",
              "\n",
              "<svg xmlns=\"http://www.w3.org/2000/svg\" height=\"24px\"viewBox=\"0 0 24 24\"\n",
              "     width=\"24px\">\n",
              "    <g>\n",
              "        <path d=\"M19 3H5c-1.1 0-2 .9-2 2v14c0 1.1.9 2 2 2h14c1.1 0 2-.9 2-2V5c0-1.1-.9-2-2-2zM9 17H7v-7h2v7zm4 0h-2V7h2v10zm4 0h-2v-4h2v4z\"/>\n",
              "    </g>\n",
              "</svg>\n",
              "      </button>\n",
              "    </div>\n",
              "\n",
              "<style>\n",
              "  .colab-df-quickchart {\n",
              "    background-color: #E8F0FE;\n",
              "    border: none;\n",
              "    border-radius: 50%;\n",
              "    cursor: pointer;\n",
              "    display: none;\n",
              "    fill: #1967D2;\n",
              "    height: 32px;\n",
              "    padding: 0 0 0 0;\n",
              "    width: 32px;\n",
              "  }\n",
              "\n",
              "  .colab-df-quickchart:hover {\n",
              "    background-color: #E2EBFA;\n",
              "    box-shadow: 0px 1px 2px rgba(60, 64, 67, 0.3), 0px 1px 3px 1px rgba(60, 64, 67, 0.15);\n",
              "    fill: #174EA6;\n",
              "  }\n",
              "\n",
              "  [theme=dark] .colab-df-quickchart {\n",
              "    background-color: #3B4455;\n",
              "    fill: #D2E3FC;\n",
              "  }\n",
              "\n",
              "  [theme=dark] .colab-df-quickchart:hover {\n",
              "    background-color: #434B5C;\n",
              "    box-shadow: 0px 1px 3px 1px rgba(0, 0, 0, 0.15);\n",
              "    filter: drop-shadow(0px 1px 2px rgba(0, 0, 0, 0.3));\n",
              "    fill: #FFFFFF;\n",
              "  }\n",
              "</style>\n",
              "\n",
              "    <script>\n",
              "      async function quickchart(key) {\n",
              "        const containerElement = document.querySelector('#' + key);\n",
              "        const charts = await google.colab.kernel.invokeFunction(\n",
              "            'suggestCharts', [key], {});\n",
              "      }\n",
              "    </script>\n",
              "\n",
              "      <script>\n",
              "\n",
              "function displayQuickchartButton(domScope) {\n",
              "  let quickchartButtonEl =\n",
              "    domScope.querySelector('#df-3f1d25d8-a57f-4e74-b2ee-713856c4c1ee button.colab-df-quickchart');\n",
              "  quickchartButtonEl.style.display =\n",
              "    google.colab.kernel.accessAllowed ? 'block' : 'none';\n",
              "}\n",
              "\n",
              "        displayQuickchartButton(document);\n",
              "      </script>\n",
              "      <style>\n",
              "    .colab-df-container {\n",
              "      display:flex;\n",
              "      flex-wrap:wrap;\n",
              "      gap: 12px;\n",
              "    }\n",
              "\n",
              "    .colab-df-convert {\n",
              "      background-color: #E8F0FE;\n",
              "      border: none;\n",
              "      border-radius: 50%;\n",
              "      cursor: pointer;\n",
              "      display: none;\n",
              "      fill: #1967D2;\n",
              "      height: 32px;\n",
              "      padding: 0 0 0 0;\n",
              "      width: 32px;\n",
              "    }\n",
              "\n",
              "    .colab-df-convert:hover {\n",
              "      background-color: #E2EBFA;\n",
              "      box-shadow: 0px 1px 2px rgba(60, 64, 67, 0.3), 0px 1px 3px 1px rgba(60, 64, 67, 0.15);\n",
              "      fill: #174EA6;\n",
              "    }\n",
              "\n",
              "    [theme=dark] .colab-df-convert {\n",
              "      background-color: #3B4455;\n",
              "      fill: #D2E3FC;\n",
              "    }\n",
              "\n",
              "    [theme=dark] .colab-df-convert:hover {\n",
              "      background-color: #434B5C;\n",
              "      box-shadow: 0px 1px 3px 1px rgba(0, 0, 0, 0.15);\n",
              "      filter: drop-shadow(0px 1px 2px rgba(0, 0, 0, 0.3));\n",
              "      fill: #FFFFFF;\n",
              "    }\n",
              "  </style>\n",
              "\n",
              "      <script>\n",
              "        const buttonEl =\n",
              "          document.querySelector('#df-d6746078-b2ea-47f2-8455-a6fd8f14f099 button.colab-df-convert');\n",
              "        buttonEl.style.display =\n",
              "          google.colab.kernel.accessAllowed ? 'block' : 'none';\n",
              "\n",
              "        async function convertToInteractive(key) {\n",
              "          const element = document.querySelector('#df-d6746078-b2ea-47f2-8455-a6fd8f14f099');\n",
              "          const dataTable =\n",
              "            await google.colab.kernel.invokeFunction('convertToInteractive',\n",
              "                                                     [key], {});\n",
              "          if (!dataTable) return;\n",
              "\n",
              "          const docLinkHtml = 'Like what you see? Visit the ' +\n",
              "            '<a target=\"_blank\" href=https://colab.research.google.com/notebooks/data_table.ipynb>data table notebook</a>'\n",
              "            + ' to learn more about interactive tables.';\n",
              "          element.innerHTML = '';\n",
              "          dataTable['output_type'] = 'display_data';\n",
              "          await google.colab.output.renderOutput(dataTable, element);\n",
              "          const docLink = document.createElement('div');\n",
              "          docLink.innerHTML = docLinkHtml;\n",
              "          element.appendChild(docLink);\n",
              "        }\n",
              "      </script>\n",
              "    </div>\n",
              "  </div>\n"
            ]
          },
          "metadata": {},
          "execution_count": 25
        }
      ]
    },
    {
      "cell_type": "markdown",
      "source": [
        "# **3. DATA ANALYSIS AND VISUALIZATION**"
      ],
      "metadata": {
        "id": "zgKLcNz6yg4H"
      }
    },
    {
      "cell_type": "markdown",
      "source": [
        "- I have finished the preliminary cleaning stage, so now it is time to ***fix the stated problem.***\n",
        "- As I mentioned previously, the issue with the points per game is that it is not standardized. A player can jack up their points per game by playing more minutes per game than their competitors, and by shooting more shots than they should.\n",
        "- **Lets look at Damian Lillard on December 30 of 2021.**"
      ],
      "metadata": {
        "id": "Vym1ZqlUyvLA"
      }
    },
    {
      "cell_type": "code",
      "source": [
        "df = dataframe.loc[35]\n",
        "df1 = df.to_frame()\n",
        "df1 = df1.reset_index()\n",
        "print(df1)"
      ],
      "metadata": {
        "colab": {
          "base_uri": "https://localhost:8080/"
        },
        "id": "IUOdCenFmVl2",
        "outputId": "6bcaad64-d58c-4cfe-8109-60d01708c7e6"
      },
      "execution_count": null,
      "outputs": [
        {
          "output_type": "stream",
          "name": "stdout",
          "text": [
            "                    index                   35\n",
            "0                    DATE  2022-12-30 00:00:00\n",
            "1                      TM              POR POR\n",
            "2              Unnamed: 4                    @\n",
            "3                     OPP              GSW GSW\n",
            "4                  RESULT                    0\n",
            "5                TEAM FGA                   91\n",
            "6                PTS/POSS             0.361702\n",
            "7                     PTS                   34\n",
            "8                    POSS                 94.0\n",
            "9                     MIN                   42\n",
            "10                    REB                    8\n",
            "11                    AST                    5\n",
            "12                    STL                    0\n",
            "13                    BLK                    1\n",
            "14                    TOV                    3\n",
            "15                    FGM                   12\n",
            "16                    FGA                   29\n",
            "17                    FG%                 41.4\n",
            "18                    3PM                    4\n",
            "19                    3PA                   15\n",
            "20                    3P%                 26.7\n",
            "21                    FTM                    6\n",
            "22                    FTA                    7\n",
            "23                    FT%                 85.7\n",
            "24                     PF                    4\n",
            "25                   '+/-                   -5\n",
            "26  % OF TEAM SHOTS TAKEN             0.318681\n"
          ]
        }
      ]
    },
    {
      "cell_type": "markdown",
      "source": [
        "- He scored 34 points (8th row) which seems to be an impressive amount considering the highest points per game scorer that season (Giannis Antetokounmpo) averaged 29.9 points per game.\n",
        "- However, what 34 points does not tell us is that** he played 42 minutes** (10th row) **which is 6.2 minutes more than his average that season.**\n",
        "- Additionally, **he attempted 29 shots** (17th row), **which was 10 more than his average.**\n",
        "- All of a sudden, his 34 points, which was 6.2 points higher than his average, **does not seem as impressive when factoring in that he played 42 minutes and took 29 shots.**\n",
        "\n"
      ],
      "metadata": {
        "id": "UjowdjMPm6M_"
      }
    },
    {
      "cell_type": "code",
      "source": [
        "x = dataframe['MIN']\n",
        "y = dataframe['PTS']\n",
        "coefficients = np.polyfit(x,y,1)\n",
        "slope, intercept = coefficients\n",
        "correlation_coefficient = np.corrcoef(x, y)[0,1]\n",
        "\n",
        "print(f'Slope: {slope}, Intercept: {intercept}, R-value: {correlation_coefficient}')\n",
        "\n",
        "# Generate predicted y values for the regression line\n",
        "y_pred = slope * x + intercept\n",
        "\n",
        "# Plot the data and the regression line\n",
        "plt.scatter(x, y)\n",
        "plt.plot(x, y_pred, color='red')\n",
        "plt.xlabel('Minutes')\n",
        "plt.ylabel('Points')\n",
        "plt.show()"
      ],
      "metadata": {
        "colab": {
          "base_uri": "https://localhost:8080/",
          "height": 466
        },
        "id": "iNdcdy9qrdNQ",
        "outputId": "c69e1047-2da5-40e7-f18b-06bca689d933"
      },
      "execution_count": null,
      "outputs": [
        {
          "output_type": "stream",
          "name": "stdout",
          "text": [
            "Slope: 0.814362692921767, Intercept: -0.15937111938976092, R-value: 0.33285154529138833\n"
          ]
        },
        {
          "output_type": "display_data",
          "data": {
            "text/plain": [
              "<Figure size 640x480 with 1 Axes>"
            ],
            "image/png": "[encoded data removed]"
          },
          "metadata": {}
        }
      ]
    },
    {
      "cell_type": "markdown",
      "source": [
        "- As you can see here, there is a ***clear correlation between minutes and points.***\n",
        "- The obvious solution to this is to measure points ***per possession*** rather than per game.\n",
        "- Doing so allows us to ***standardize*** this statistic.\n",
        "- Factors such as minutes played and shots attempted do not matter, as we are simply measuring how many points a player scores ***per possession.***\n",
        "- I can prove that points per possession has a strong correlation with winning than points per game with regressional analysis."
      ],
      "metadata": {
        "id": "dmhUQo6or4KB"
      }
    },
    {
      "cell_type": "markdown",
      "source": [
        "**Here, I am regressing points scored per game ('PTS') on Wins ('Result')** **bold text**"
      ],
      "metadata": {
        "id": "xtjiQ8bfpb0g"
      }
    },
    {
      "cell_type": "code",
      "source": [
        "x = dataframe['RESULT']\n",
        "y = dataframe['PTS']\n",
        "coefficients = np.polyfit(x,y,1)\n",
        "slope, intercept = coefficients\n",
        "correlation_coefficient = np.corrcoef(x, y)[0,1]\n",
        "\n",
        "print(f'Slope: {slope}, Intercept: {intercept}, R-value: {correlation_coefficient}')\n",
        "\n",
        "# Generate predicted y values for the regression line\n",
        "y_pred = slope * x + intercept\n",
        "\n",
        "# Plot the data and the regression line\n",
        "plt.scatter(x, y)\n",
        "plt.plot(x, y_pred, color='red')\n",
        "plt.xlabel('Wins (1=win, 0=loss)')\n",
        "plt.ylabel('Points')\n",
        "plt.show()"
      ],
      "metadata": {
        "colab": {
          "base_uri": "https://localhost:8080/",
          "height": 466
        },
        "id": "J22BuK5ePXng",
        "outputId": "443bba7b-0419-44ae-ce38-7cf612182d55"
      },
      "execution_count": null,
      "outputs": [
        {
          "output_type": "stream",
          "name": "stdout",
          "text": [
            "Slope: 3.47186147186146, Intercept: 27.57575757575759, R-value: 0.17591088053834217\n"
          ]
        },
        {
          "output_type": "display_data",
          "data": {
            "text/plain": [
              "<Figure size 640x480 with 1 Axes>"
            ],
            "image/png": "[encoded data removed]"
          },
          "metadata": {}
        }
      ]
    },
    {
      "cell_type": "markdown",
      "source": [
        "**Here, I am regressing points per possession per game ('PTS/POSS') on Wins ('Result')**"
      ],
      "metadata": {
        "id": "ugM5yoUmpzd1"
      }
    },
    {
      "cell_type": "code",
      "source": [
        "x = dataframe['RESULT']\n",
        "y = dataframe['PTS/POSS']\n",
        "coefficients = np.polyfit(x,y,1)\n",
        "slope, intercept = coefficients\n",
        "correlation_coefficient = np.corrcoef(x, y)[0,1]\n",
        "\n",
        "print(f'Slope: {slope}, Intercept: {intercept}, R-value: {correlation_coefficient}')\n",
        "\n",
        "# Generate predicted y values for the regression line\n",
        "y_pred = slope * x + intercept\n",
        "\n",
        "# Plot the data and the regression line\n",
        "plt.scatter(x, y)\n",
        "plt.plot(x, y_pred, color='red')\n",
        "plt.xlabel('Wins (1=win, 0=loss)')\n",
        "plt.ylabel('Points per possession')\n",
        "plt.show()"
      ],
      "metadata": {
        "colab": {
          "base_uri": "https://localhost:8080/",
          "height": 466
        },
        "id": "KrWJ_n2aqDAW",
        "outputId": "76c715ff-08a5-474d-82c1-0ccbec664666"
      },
      "execution_count": null,
      "outputs": [
        {
          "output_type": "stream",
          "name": "stdout",
          "text": [
            "Slope: 0.038311890139531735, Intercept: 0.2795291290787832, R-value: 0.18335307203598475\n"
          ]
        },
        {
          "output_type": "display_data",
          "data": {
            "text/plain": [
              "<Figure size 640x480 with 1 Axes>"
            ],
            "image/png": "[encoded data removed]"
          },
          "metadata": {}
        }
      ]
    },
    {
      "cell_type": "markdown",
      "source": [
        "- As you can see, **the correlation coefficient/r-value is higher for the points per possession regression than the points per game regression (0.17591 vs 0.18335).**\n",
        "- This means that there is a stronger correlation between **points per possession and winning** than there is with **points per game and winning.**\n",
        "- However, the difference in the correlation coeffcients are quite small (~0.00744). **This is almost negligible**, so what is the issue?\n",
        "- The issue is that while points per possession measures scoring better than points per game as evident by the regression, **this is still a flawed statistic.**\n",
        "- This is because **points per game does not take into account the percentage of team shots taken.**\n",
        "- **If a player takes a large percentage of their team's shots (say 50%) then their points per possession skyrockets.**\n",
        "- Lets look at Damian Lillard once again. If we regress points per possession on percentage of team shots taken, we see an obvious correlation\n"
      ],
      "metadata": {
        "id": "Q5hb1iLSqLfA"
      }
    },
    {
      "cell_type": "code",
      "source": [
        "x = dataframe['PTS/POSS']\n",
        "y = dataframe['% OF TEAM SHOTS TAKEN']\n",
        "coefficients = np.polyfit(x,y,1)\n",
        "slope, intercept = coefficients\n",
        "correlation_coefficient = np.corrcoef(x, y)[0,1]\n",
        "\n",
        "print(f'Slope: {slope}, Intercept: {intercept}, R-value: {correlation_coefficient}')\n",
        "\n",
        "# Generate predicted y values for the regression line\n",
        "y_pred = slope * x + intercept\n",
        "\n",
        "# Plot the data and the regression line\n",
        "plt.scatter(x, y)\n",
        "plt.plot(x, y_pred, color='red')\n",
        "plt.xlabel('PTS/POSS')\n",
        "plt.ylabel('% OF TEAM SHOTS TAKEN')\n",
        "plt.show()"
      ],
      "metadata": {
        "colab": {
          "base_uri": "https://localhost:8080/",
          "height": 466
        },
        "id": "nt1kO0yqtlTl",
        "outputId": "27f52032-5707-4667-8e9b-0763738a71c6"
      },
      "execution_count": null,
      "outputs": [
        {
          "output_type": "stream",
          "name": "stdout",
          "text": [
            "Slope: 0.3684403886261656, Intercept: 0.12308862450369154, R-value: 0.680079507926203\n"
          ]
        },
        {
          "output_type": "display_data",
          "data": {
            "text/plain": [
              "<Figure size 640x480 with 1 Axes>"
            ],
            "image/png": "[encoded data removed]"
          },
          "metadata": {}
        }
      ]
    },
    {
      "cell_type": "markdown",
      "source": [
        "- The correlation coefficient is .68008 which **implies a strong positive correlation between points per possession and % of team shots taken.** So how do we fix this?\n",
        "- The solution is by multiplying points per possession by (1-% of team shots taken).\n",
        "- Doing this evens out the effect that the % of team shots taken has on points per possession\n",
        "- This is what I am now calling **True Points Per Possession.**"
      ],
      "metadata": {
        "id": "LJ88yBkTt4jX"
      }
    },
    {
      "cell_type": "code",
      "source": [
        "dataframe['TRUE POINTS PER POSSESSION'] = dataframe['PTS/POSS'] * (1-dataframe['% OF TEAM SHOTS TAKEN']) # creates the % of team shots taken statistic that is needed to calculate TPPP\n",
        "dataframe.head(3)"
      ],
      "metadata": {
        "colab": {
          "base_uri": "https://localhost:8080/",
          "height": 341
        },
        "id": "5xqA1rn6G7CA",
        "outputId": "63eb66dd-0aeb-4499-c1e7-d3a89771893f"
      },
      "execution_count": null,
      "outputs": [
        {
          "output_type": "execute_result",
          "data": {
            "text/plain": [
              "        DATE       TM Unnamed: 4      OPP  RESULT  TEAM FGA  PTS/POSS  PTS  \\\n",
              "0 2023-03-22  POR POR          @  UTA UTA       1        93  0.284091   30   \n",
              "1 2023-03-19  POR POR         vs  LAC LAC       0        82  0.229258   21   \n",
              "2 2023-03-17  POR POR         vs  BOS BOS       0        79  0.411647   41   \n",
              "\n",
              "    POSS  MIN  ...  3PM  3PA   3P%  FTM  FTA   FT%  PF  '+/-  \\\n",
              "0  105.6   34  ...    2   10  20.0   12   14  85.7   1    18   \n",
              "1   91.6   39  ...    1    8  12.5   12   13  92.3   0   -20   \n",
              "2   99.6   37  ...    6   15  40.0   11   14  78.6   3   -14   \n",
              "\n",
              "   % OF TEAM SHOTS TAKEN  TRUE POINTS PER POSSESSION  \n",
              "0               0.204301                    0.226051  \n",
              "1               0.207317                    0.181729  \n",
              "2               0.291139                    0.291800  \n",
              "\n",
              "[3 rows x 28 columns]"
            ],
            "text/html": [
              "\n",
              "\n",
              "  <div id=\"df-ca960882-73e6-4c46-b23b-bcc65d695153\">\n",
              "    <div class=\"colab-df-container\">\n",
              "      <div>\n",
              "<style scoped>\n",
              "    .dataframe tbody tr th:only-of-type {\n",
              "        vertical-align: middle;\n",
              "    }\n",
              "\n",
              "    .dataframe tbody tr th {\n",
              "        vertical-align: top;\n",
              "    }\n",
              "\n",
              "    .dataframe thead th {\n",
              "        text-align: right;\n",
              "    }\n",
              "</style>\n",
              "<table border=\"1\" class=\"dataframe\">\n",
              "  <thead>\n",
              "    <tr style=\"text-align: right;\">\n",
              "      <th></th>\n",
              "      <th>DATE</th>\n",
              "      <th>TM</th>\n",
              "      <th>Unnamed: 4</th>\n",
              "      <th>OPP</th>\n",
              "      <th>RESULT</th>\n",
              "      <th>TEAM FGA</th>\n",
              "      <th>PTS/POSS</th>\n",
              "      <th>PTS</th>\n",
              "      <th>POSS</th>\n",
              "      <th>MIN</th>\n",
              "      <th>...</th>\n",
              "      <th>3PM</th>\n",
              "      <th>3PA</th>\n",
              "      <th>3P%</th>\n",
              "      <th>FTM</th>\n",
              "      <th>FTA</th>\n",
              "      <th>FT%</th>\n",
              "      <th>PF</th>\n",
              "      <th>'+/-</th>\n",
              "      <th>% OF TEAM SHOTS TAKEN</th>\n",
              "      <th>TRUE POINTS PER POSSESSION</th>\n",
              "    </tr>\n",
              "  </thead>\n",
              "  <tbody>\n",
              "    <tr>\n",
              "      <th>0</th>\n",
              "      <td>2023-03-22</td>\n",
              "      <td>POR POR</td>\n",
              "      <td>@</td>\n",
              "      <td>UTA UTA</td>\n",
              "      <td>1</td>\n",
              "      <td>93</td>\n",
              "      <td>0.284091</td>\n",
              "      <td>30</td>\n",
              "      <td>105.6</td>\n",
              "      <td>34</td>\n",
              "      <td>...</td>\n",
              "      <td>2</td>\n",
              "      <td>10</td>\n",
              "      <td>20.0</td>\n",
              "      <td>12</td>\n",
              "      <td>14</td>\n",
              "      <td>85.7</td>\n",
              "      <td>1</td>\n",
              "      <td>18</td>\n",
              "      <td>0.204301</td>\n",
              "      <td>0.226051</td>\n",
              "    </tr>\n",
              "    <tr>\n",
              "      <th>1</th>\n",
              "      <td>2023-03-19</td>\n",
              "      <td>POR POR</td>\n",
              "      <td>vs</td>\n",
              "      <td>LAC LAC</td>\n",
              "      <td>0</td>\n",
              "      <td>82</td>\n",
              "      <td>0.229258</td>\n",
              "      <td>21</td>\n",
              "      <td>91.6</td>\n",
              "      <td>39</td>\n",
              "      <td>...</td>\n",
              "      <td>1</td>\n",
              "      <td>8</td>\n",
              "      <td>12.5</td>\n",
              "      <td>12</td>\n",
              "      <td>13</td>\n",
              "      <td>92.3</td>\n",
              "      <td>0</td>\n",
              "      <td>-20</td>\n",
              "      <td>0.207317</td>\n",
              "      <td>0.181729</td>\n",
              "    </tr>\n",
              "    <tr>\n",
              "      <th>2</th>\n",
              "      <td>2023-03-17</td>\n",
              "      <td>POR POR</td>\n",
              "      <td>vs</td>\n",
              "      <td>BOS BOS</td>\n",
              "      <td>0</td>\n",
              "      <td>79</td>\n",
              "      <td>0.411647</td>\n",
              "      <td>41</td>\n",
              "      <td>99.6</td>\n",
              "      <td>37</td>\n",
              "      <td>...</td>\n",
              "      <td>6</td>\n",
              "      <td>15</td>\n",
              "      <td>40.0</td>\n",
              "      <td>11</td>\n",
              "      <td>14</td>\n",
              "      <td>78.6</td>\n",
              "      <td>3</td>\n",
              "      <td>-14</td>\n",
              "      <td>0.291139</td>\n",
              "      <td>0.291800</td>\n",
              "    </tr>\n",
              "  </tbody>\n",
              "</table>\n",
              "<p>3 rows × 28 columns</p>\n",
              "</div>\n",
              "      <button class=\"colab-df-convert\" onclick=\"convertToInteractive('df-ca960882-73e6-4c46-b23b-bcc65d695153')\"\n",
              "              title=\"Convert this dataframe to an interactive table.\"\n",
              "              style=\"display:none;\">\n",
              "\n",
              "  <svg xmlns=\"http://www.w3.org/2000/svg\" height=\"24px\"viewBox=\"0 0 24 24\"\n",
              "       width=\"24px\">\n",
              "    <path d=\"M0 0h24v24H0V0z\" fill=\"none\"/>\n",
              "    <path d=\"M18.56 5.44l.94 2.06.94-2.06 2.06-.94-2.06-.94-.94-2.06-.94 2.06-2.06.94zm-11 1L8.5 8.5l.94-2.06 2.06-.94-2.06-.94L8.5 2.5l-.94 2.06-2.06.94zm10 10l.94 2.06.94-2.06 2.06-.94-2.06-.94-.94-2.06-.94 2.06-2.06.94z\"/><path d=\"M17.41 7.96l-1.37-1.37c-.4-.4-.92-.59-1.43-.59-.52 0-1.04.2-1.43.59L10.3 9.45l-7.72 7.72c-.78.78-.78 2.05 0 2.83L4 21.41c.39.39.9.59 1.41.59.51 0 1.02-.2 1.41-.59l7.78-7.78 2.81-2.81c.8-.78.8-2.07 0-2.86zM5.41 20L4 18.59l7.72-7.72 1.47 1.35L5.41 20z\"/>\n",
              "  </svg>\n",
              "      </button>\n",
              "\n",
              "\n",
              "\n",
              "    <div id=\"df-24f51ee1-e068-44bf-a7c7-272071caff99\">\n",
              "      <button class=\"colab-df-quickchart\" onclick=\"quickchart('df-24f51ee1-e068-44bf-a7c7-272071caff99')\"\n",
              "              title=\"Suggest charts.\"\n",
              "              style=\"display:none;\">\n",
              "\n",
              "<svg xmlns=\"http://www.w3.org/2000/svg\" height=\"24px\"viewBox=\"0 0 24 24\"\n",
              "     width=\"24px\">\n",
              "    <g>\n",
              "        <path d=\"M19 3H5c-1.1 0-2 .9-2 2v14c0 1.1.9 2 2 2h14c1.1 0 2-.9 2-2V5c0-1.1-.9-2-2-2zM9 17H7v-7h2v7zm4 0h-2V7h2v10zm4 0h-2v-4h2v4z\"/>\n",
              "    </g>\n",
              "</svg>\n",
              "      </button>\n",
              "    </div>\n",
              "\n",
              "<style>\n",
              "  .colab-df-quickchart {\n",
              "    background-color: #E8F0FE;\n",
              "    border: none;\n",
              "    border-radius: 50%;\n",
              "    cursor: pointer;\n",
              "    display: none;\n",
              "    fill: #1967D2;\n",
              "    height: 32px;\n",
              "    padding: 0 0 0 0;\n",
              "    width: 32px;\n",
              "  }\n",
              "\n",
              "  .colab-df-quickchart:hover {\n",
              "    background-color: #E2EBFA;\n",
              "    box-shadow: 0px 1px 2px rgba(60, 64, 67, 0.3), 0px 1px 3px 1px rgba(60, 64, 67, 0.15);\n",
              "    fill: #174EA6;\n",
              "  }\n",
              "\n",
              "  [theme=dark] .colab-df-quickchart {\n",
              "    background-color: #3B4455;\n",
              "    fill: #D2E3FC;\n",
              "  }\n",
              "\n",
              "  [theme=dark] .colab-df-quickchart:hover {\n",
              "    background-color: #434B5C;\n",
              "    box-shadow: 0px 1px 3px 1px rgba(0, 0, 0, 0.15);\n",
              "    filter: drop-shadow(0px 1px 2px rgba(0, 0, 0, 0.3));\n",
              "    fill: #FFFFFF;\n",
              "  }\n",
              "</style>\n",
              "\n",
              "    <script>\n",
              "      async function quickchart(key) {\n",
              "        const containerElement = document.querySelector('#' + key);\n",
              "        const charts = await google.colab.kernel.invokeFunction(\n",
              "            'suggestCharts', [key], {});\n",
              "      }\n",
              "    </script>\n",
              "\n",
              "      <script>\n",
              "\n",
              "function displayQuickchartButton(domScope) {\n",
              "  let quickchartButtonEl =\n",
              "    domScope.querySelector('#df-24f51ee1-e068-44bf-a7c7-272071caff99 button.colab-df-quickchart');\n",
              "  quickchartButtonEl.style.display =\n",
              "    google.colab.kernel.accessAllowed ? 'block' : 'none';\n",
              "}\n",
              "\n",
              "        displayQuickchartButton(document);\n",
              "      </script>\n",
              "      <style>\n",
              "    .colab-df-container {\n",
              "      display:flex;\n",
              "      flex-wrap:wrap;\n",
              "      gap: 12px;\n",
              "    }\n",
              "\n",
              "    .colab-df-convert {\n",
              "      background-color: #E8F0FE;\n",
              "      border: none;\n",
              "      border-radius: 50%;\n",
              "      cursor: pointer;\n",
              "      display: none;\n",
              "      fill: #1967D2;\n",
              "      height: 32px;\n",
              "      padding: 0 0 0 0;\n",
              "      width: 32px;\n",
              "    }\n",
              "\n",
              "    .colab-df-convert:hover {\n",
              "      background-color: #E2EBFA;\n",
              "      box-shadow: 0px 1px 2px rgba(60, 64, 67, 0.3), 0px 1px 3px 1px rgba(60, 64, 67, 0.15);\n",
              "      fill: #174EA6;\n",
              "    }\n",
              "\n",
              "    [theme=dark] .colab-df-convert {\n",
              "      background-color: #3B4455;\n",
              "      fill: #D2E3FC;\n",
              "    }\n",
              "\n",
              "    [theme=dark] .colab-df-convert:hover {\n",
              "      background-color: #434B5C;\n",
              "      box-shadow: 0px 1px 3px 1px rgba(0, 0, 0, 0.15);\n",
              "      filter: drop-shadow(0px 1px 2px rgba(0, 0, 0, 0.3));\n",
              "      fill: #FFFFFF;\n",
              "    }\n",
              "  </style>\n",
              "\n",
              "      <script>\n",
              "        const buttonEl =\n",
              "          document.querySelector('#df-ca960882-73e6-4c46-b23b-bcc65d695153 button.colab-df-convert');\n",
              "        buttonEl.style.display =\n",
              "          google.colab.kernel.accessAllowed ? 'block' : 'none';\n",
              "\n",
              "        async function convertToInteractive(key) {\n",
              "          const element = document.querySelector('#df-ca960882-73e6-4c46-b23b-bcc65d695153');\n",
              "          const dataTable =\n",
              "            await google.colab.kernel.invokeFunction('convertToInteractive',\n",
              "                                                     [key], {});\n",
              "          if (!dataTable) return;\n",
              "\n",
              "          const docLinkHtml = 'Like what you see? Visit the ' +\n",
              "            '<a target=\"_blank\" href=https://colab.research.google.com/notebooks/data_table.ipynb>data table notebook</a>'\n",
              "            + ' to learn more about interactive tables.';\n",
              "          element.innerHTML = '';\n",
              "          dataTable['output_type'] = 'display_data';\n",
              "          await google.colab.output.renderOutput(dataTable, element);\n",
              "          const docLink = document.createElement('div');\n",
              "          docLink.innerHTML = docLinkHtml;\n",
              "          element.appendChild(docLink);\n",
              "        }\n",
              "      </script>\n",
              "    </div>\n",
              "  </div>\n"
            ]
          },
          "metadata": {},
          "execution_count": 31
        }
      ]
    },
    {
      "cell_type": "code",
      "source": [
        "dataframe['TRUE POINTS PER POSSESSION'].mean()"
      ],
      "metadata": {
        "colab": {
          "base_uri": "https://localhost:8080/"
        },
        "id": "qitOgdh_fvY-",
        "outputId": "3030cebd-36ab-48ab-fc65-781bb6437826"
      },
      "execution_count": null,
      "outputs": [
        {
          "output_type": "execute_result",
          "data": {
            "text/plain": [
              "0.22473865699340137"
            ]
          },
          "metadata": {},
          "execution_count": 32
        }
      ]
    },
    {
      "cell_type": "code",
      "source": [
        "x = dataframe['RESULT']\n",
        "y = dataframe['TRUE POINTS PER POSSESSION']\n",
        "coefficients = np.polyfit(x,y,1)\n",
        "slope, intercept = coefficients\n",
        "correlation_coefficient = np.corrcoef(x, y)[0,1]\n",
        "\n",
        "print(f'Slope: {slope}, Intercept: {intercept}, R-squared: {correlation_coefficient}')\n",
        "\n",
        "# Generate predicted y values for the regression line\n",
        "y_pred = slope * x + intercept\n",
        "\n",
        "# Plot the data and the regression line\n",
        "plt.scatter(x, y)\n",
        "plt.plot(x, y_pred, color='red')\n",
        "plt.xlabel('Wins (1=win, 0=loss)')\n",
        "plt.ylabel('True points per possession')\n",
        "plt.show()"
      ],
      "metadata": {
        "colab": {
          "base_uri": "https://localhost:8080/",
          "height": 466
        },
        "id": "HEWcuymcNuVT",
        "outputId": "100b8f68-2389-42a6-a7f6-88a0365d1949"
      },
      "execution_count": null,
      "outputs": [
        {
          "output_type": "stream",
          "name": "stdout",
          "text": [
            "Slope: 0.02895783992387559, Intercept: 0.2105964561003459, R-squared: 0.2131356269092297\n"
          ]
        },
        {
          "output_type": "display_data",
          "data": {
            "text/plain": [
              "<Figure size 640x480 with 1 Axes>"
            ],
            "image/png": "[encoded data removed]"
          },
          "metadata": {}
        }
      ]
    },
    {
      "cell_type": "markdown",
      "source": [
        "- As you can see, the correlation coefficient in this regression is greater than any correlation coefficient we have seen. (0.21316 > 0.18335 > 0.17591).\n",
        "- This proves that true points per posession has a **greater impact on winning games than both points per posession AND points per game.**"
      ],
      "metadata": {
        "id": "nCHsTHElueTQ"
      }
    },
    {
      "cell_type": "markdown",
      "source": [
        "- Here is **side-by-side visualization** of by **how much TPPP outperforms Points per game.**"
      ],
      "metadata": {
        "id": "I5NGfMnyv_ni"
      }
    },
    {
      "cell_type": "code",
      "source": [
        "# VISUALIZATION\n",
        "\n",
        "# Create boxplot for TPPP\n",
        "fig, ax = plt.subplots(1, 2, figsize=(12, 6)) # Create two subplots side by side\n",
        "sns.boxplot(x='RESULT', y='TRUE POINTS PER POSSESSION', data=dataframe, ax=ax[0])\n",
        "ax[0].set_xlabel('Wins (1=win, 0=loss)')\n",
        "ax[0].set_ylabel('TPPP')\n",
        "ax[0].set_title('Box Plot of TPPP vs. RESULT')\n",
        "\n",
        "# Create boxplot for PTS\n",
        "sns.boxplot(x='RESULT', y='PTS', data=dataframe, ax=ax[1])\n",
        "ax[1].set_xlabel('Wins (1=win, 0=loss)')\n",
        "ax[1].set_ylabel('Points')\n",
        "ax[1].set_title('Box Plot of PTS vs. RESULT')\n",
        "\n",
        "# Display the plots\n",
        "plt.tight_layout()  # Ensures that the plots do not overlap\n",
        "plt.show()\n",
        "\n",
        "\n",
        "# Create histogram for TPPP\n",
        "fig, ax = plt.subplots(1, 2, figsize=(12, 6)) # Create two subplots side by side\n",
        "win_TPPP = dataframe[dataframe['RESULT'] == 1]['TRUE POINTS PER POSSESSION']\n",
        "loss_TPPP = dataframe[dataframe['RESULT'] == 0]['TRUE POINTS PER POSSESSION']\n",
        "ax[0].hist(win_TPPP, bins=30, alpha=0.5, label='Wins')\n",
        "ax[0].hist(loss_TPPP, bins=30, alpha=0.5, label='Losses')\n",
        "ax[0].set_xlabel('TPPP')\n",
        "ax[0].set_ylabel('Frequency')\n",
        "ax[0].legend(loc='upper right')\n",
        "ax[0].set_title('Histogram of TPPP and Wins and Losses')\n",
        "\n",
        "# Create histogram for PTS\n",
        "win_pts = dataframe[dataframe['RESULT'] == 1]['PTS']\n",
        "loss_pts = dataframe[dataframe['RESULT'] == 0]['PTS']\n",
        "ax[1].hist(win_pts, bins=30, alpha=0.5, label='Wins')\n",
        "ax[1].hist(loss_pts, bins=30, alpha=0.5, label='Losses')\n",
        "ax[1].set_xlabel('Points')\n",
        "ax[1].set_ylabel('Frequency')\n",
        "ax[1].legend(loc='upper right')\n",
        "ax[1].set_title('Histogram of PTS and Wins and Losses')\n",
        "plt.tight_layout()  # Ensures that the plots do not overlap\n",
        "plt.show() # Display the plots\n",
        "\n",
        "\n",
        "# Create violin plot for TPPP\n",
        "fig, ax = plt.subplots(1, 2, figsize=(12, 6)) # Create two subplots side by side\n",
        "sns.violinplot(x='RESULT', y='TRUE POINTS PER POSSESSION', data=dataframe, ax=ax[0], alpha=0.5)\n",
        "ax[0].set_xlabel('Wins (1=win, 0=loss)')\n",
        "ax[0].set_ylabel('TPPP')\n",
        "ax[0].set_title('Violin Plot of TPPP vs RESULT')\n",
        "\n",
        "# Create violin plot for PTS\n",
        "sns.violinplot(x='RESULT', y='PTS', data=dataframe, ax=ax[1])\n",
        "ax[1].set_xlabel('Wins (1=win, 0=loss)')\n",
        "ax[1].set_ylabel('Points')\n",
        "ax[1].set_title('Violin Plot of PTS vs RESULT')\n",
        "plt.tight_layout()  # Ensures that the plots do not overlap\n",
        "plt.show() # Display the plots\n"
      ],
      "metadata": {
        "colab": {
          "base_uri": "https://localhost:8080/",
          "height": 1000
        },
        "outputId": "6e38caf1-8a4e-4192-89b3-40d5e6225691",
        "id": "iNhDXFEdv95g"
      },
      "execution_count": null,
      "outputs": [
        {
          "output_type": "display_data",
          "data": {
            "text/plain": [
              "<Figure size 1200x600 with 2 Axes>"
            ],
            "image/png": "[encoded data removed]"
          },
          "metadata": {}
        },
        {
          "output_type": "display_data",
          "data": {
            "text/plain": [
              "<Figure size 1200x600 with 2 Axes>"
            ],
            "image/png": "[encoded data removed]"
          },
          "metadata": {}
        },
        {
          "output_type": "display_data",
          "data": {
            "text/plain": [
              "<Figure size 1200x600 with 2 Axes>"
            ],
            "image/png": "[encoded data removed]"
          },
          "metadata": {}
        }
      ]
    },
    {
      "cell_type": "code",
      "source": [
        "x = dataframe['TRUE POINTS PER POSSESSION']\n",
        "y = dataframe['% OF TEAM SHOTS TAKEN']\n",
        "coefficients = np.polyfit(x,y,1)\n",
        "slope, intercept = coefficients\n",
        "correlation_coefficient = np.corrcoef(x, y)[0,1]\n",
        "\n",
        "print(f'Slope: {slope}, Intercept: {intercept}, R-value: {correlation_coefficient}')\n",
        "\n",
        "# Generate predicted y values for the regression line\n",
        "y_pred = slope * x + intercept\n",
        "\n",
        "# Plot the data and the regression line\n",
        "plt.scatter(x, y)\n",
        "plt.plot(x, y_pred, color='red')\n",
        "plt.xlabel('True Points per Posession')\n",
        "plt.ylabel('% OF TEAM SHOTS TAKEN')\n",
        "plt.show()"
      ],
      "metadata": {
        "colab": {
          "base_uri": "https://localhost:8080/",
          "height": 466
        },
        "id": "j3Ag968cvFMR",
        "outputId": "02d350d9-1267-42b2-eb3a-422b3f0f0d71"
      },
      "execution_count": null,
      "outputs": [
        {
          "output_type": "stream",
          "name": "stdout",
          "text": [
            "Slope: 0.4154011480851201, Intercept: 0.13961543772737192, R-value: 0.4985685439434858\n"
          ]
        },
        {
          "output_type": "display_data",
          "data": {
            "text/plain": [
              "<Figure size 640x480 with 1 Axes>"
            ],
            "image/png": "[encoded data removed]"
          },
          "metadata": {}
        }
      ]
    },
    {
      "cell_type": "markdown",
      "source": [
        "- As you can see here, there is still a noticeable correlation between true points per posession and % of team shots taken, but the correlation coefficient is significantly less (0.68007 - 0.49857 ~= 0.1815)\n",
        "- So clearly this partly fixes the issue of players who take a large percentage of their team's shots."
      ],
      "metadata": {
        "id": "nHvAq0i8vSr6"
      }
    },
    {
      "cell_type": "markdown",
      "source": [
        "*   **There is still room for improvement.** The correlation between TPPP and FGA (field goal attempts) is very high. This means if you are taking a large amount of field goal attempts (not % of team shots) then your true points per posession will shoot up.\n",
        "\n"
      ],
      "metadata": {
        "id": "IZ0Aflvd2ACI"
      }
    },
    {
      "cell_type": "code",
      "source": [
        "x = dataframe['FGA']\n",
        "y = dataframe['TRUE POINTS PER POSSESSION']\n",
        "coefficients = np.polyfit(x,y,1)\n",
        "slope, intercept = coefficients\n",
        "correlation_coefficient = np.corrcoef(x, y)[0,1]\n",
        "\n",
        "print(f'Slope: {slope}, Intercept: {intercept}, R-value: {correlation_coefficient}')\n",
        "\n",
        "# Generate predicted y values for the regression line\n",
        "y_pred = slope * x + intercept\n",
        "\n",
        "# Plot the data and the regression line\n",
        "plt.scatter(x, y)\n",
        "plt.plot(x, y_pred, color='red')\n",
        "plt.xlabel('FGA')\n",
        "plt.ylabel('True Points per Posession')\n",
        "plt.show()"
      ],
      "metadata": {
        "colab": {
          "base_uri": "https://localhost:8080/",
          "height": 466
        },
        "id": "Fs_CxVyQ21k5",
        "outputId": "5b224bac-f0bc-44e9-9170-a993ee2da311"
      },
      "execution_count": null,
      "outputs": [
        {
          "output_type": "stream",
          "name": "stdout",
          "text": [
            "Slope: 0.007449398955938432, Intercept: 0.07372952311914549, R-value: 0.4895402131850788\n"
          ]
        },
        {
          "output_type": "display_data",
          "data": {
            "text/plain": [
              "<Figure size 640x480 with 1 Axes>"
            ],
            "image/png": "[encoded data removed]"
          },
          "metadata": {}
        }
      ]
    },
    {
      "cell_type": "markdown",
      "source": [
        "*   This means a player can increase their TPPP by taking a lot of FGA. A way to counteract this is by multiplying TPPP by FG% (shots made/shots attempted). This way, your TPPP will only increase if you are **efficient**.\n",
        "*   **However,** field goal percentage is a flawed stat as well. A center who is 7 feet tall is alwamost always going to have a higher field goal percentage than a guard, even if the guard is a shorter player.\n",
        "*   We can counteract this by multiplying TPPP by true shooting percentage rather than field goal percentage.\n",
        "*   True shooting percentage is a statistic that takes into account the fact that 3 pointers are harder to make than two pointers. This way, centers and guards who have similar scoring output will have similar true shooting percentages.\n",
        "*   This is the formula for TS%\n",
        "*   $TS = PTS/(2*TSA)$\n",
        "*   Where $TSA = FGA + 0.44*FTA$\n",
        "\n",
        "\n",
        "\n",
        "\n",
        "\n",
        "\n",
        "\n",
        "\n"
      ],
      "metadata": {
        "id": "bezm3Sa73FhV"
      }
    },
    {
      "cell_type": "code",
      "source": [
        "dataframe['TSA'] = dataframe['FGA'] + 0.44 * dataframe['FTA'] # calculate TSA\n",
        "dataframe['TS%'] = dataframe['PTS']/(2*dataframe['TSA']) # calculate TS%"
      ],
      "metadata": {
        "id": "7qLTJxrL0k-U"
      },
      "execution_count": null,
      "outputs": []
    },
    {
      "cell_type": "code",
      "source": [
        "dataframe['TRUE POINTS PER POSSESSION 2'] = dataframe['TRUE POINTS PER POSSESSION'] * dataframe['TS%'] # calculate new TPPP"
      ],
      "metadata": {
        "id": "wWaGo7MN1LTV"
      },
      "execution_count": null,
      "outputs": []
    },
    {
      "cell_type": "code",
      "source": [
        "x = dataframe['RESULT']\n",
        "y = dataframe['TRUE POINTS PER POSSESSION 2']\n",
        "coefficients = np.polyfit(x,y,1)\n",
        "slope, intercept = coefficients\n",
        "correlation_coefficient = np.corrcoef(x, y)[0,1]\n",
        "\n",
        "print(f'Slope: {slope}, Intercept: {intercept}, R-value: {correlation_coefficient}')\n",
        "\n",
        "# Generate predicted y values for the regression line\n",
        "y_pred = slope * x + intercept\n",
        "\n",
        "# Plot the data and the regression line\n",
        "plt.scatter(x, y)\n",
        "plt.plot(x, y_pred, color='red')\n",
        "plt.xlabel('Win/Loss (1=win 0=loss)')\n",
        "plt.ylabel('True Points per Posession 2')\n",
        "plt.show()"
      ],
      "metadata": {
        "colab": {
          "base_uri": "https://localhost:8080/",
          "height": 466
        },
        "id": "_qG9QNlU0_xr",
        "outputId": "c29df8c0-75fb-4bf1-dbb1-0af4fbf57c78"
      },
      "execution_count": null,
      "outputs": [
        {
          "output_type": "stream",
          "name": "stdout",
          "text": [
            "Slope: 0.036899110356723726, Intercept: 0.12692141384815148, R-value: 0.2649443816485566\n"
          ]
        },
        {
          "output_type": "display_data",
          "data": {
            "text/plain": [
              "<Figure size 640x480 with 1 Axes>"
            ],
            "image/png": "[encoded data removed]"
          },
          "metadata": {}
        }
      ]
    },
    {
      "cell_type": "markdown",
      "source": [
        "\n",
        "\n",
        "*   We now have the highest R value that we have had thus far. So, here is the formula for True Points Per Possession:\n",
        "\n",
        "*   $TPPP = (PTS/POSS)(1-PTT)(TS)$\n",
        "\n",
        "*   Where PTS = points in a given game\n",
        "*   POSS = possessions in a given game\n",
        "*   PTT = percentage of team shots taken\n",
        "*   TS = true shooting percentage\n",
        "\n",
        "\n",
        "\n",
        "\n",
        "\n",
        "\n",
        "\n",
        "\n"
      ],
      "metadata": {
        "id": "O4We4RN040AM"
      }
    },
    {
      "cell_type": "markdown",
      "source": [
        "\n",
        "## **4.) CAREER OUTCOME PREDICTION MODEL**"
      ],
      "metadata": {
        "id": "gYeTewAJD0ot"
      }
    },
    {
      "cell_type": "markdown",
      "source": [
        "In this Career Outcome Prediction Model, I am going to predict the career outcome of players who were drafted in 2018 or later. Here are the career outcomes:\n",
        "- Elite: a player made an all NBA team\n",
        "- All-star: a player made an all star team\n",
        "- Starter: a player started in at least 41 games or played at least 2000 minutes\n",
        "- Rotation: a player played at least 1000 minutes.\n",
        "- Roster: a player played at least 1 minute.\n",
        "- Out of the league: a player does not meet any of the above criteria.\n",
        "Note that a player must spend at least two seasons at any of the given cateogries to be considered a part of that category."
      ],
      "metadata": {
        "id": "W_xPABSWsFp3"
      }
    },
    {
      "cell_type": "code",
      "source": [
        "player_data = pd.read_csv('/content/drive/MyDrive/player_stats.csv') # put the spreadsheet into a data frame\n",
        "awards = pd.read_csv('/content/drive/MyDrive/awards_data.csv')"
      ],
      "metadata": {
        "id": "1npcQ3fGED5m"
      },
      "execution_count": null,
      "outputs": []
    },
    {
      "cell_type": "code",
      "source": [
        "player_data.head(2)"
      ],
      "metadata": {
        "colab": {
          "base_uri": "https://localhost:8080/",
          "height": 141
        },
        "id": "thYfCAr0wsTH",
        "outputId": "f4d044f1-8818-4d11-fb43-53a792cdab04"
      },
      "execution_count": null,
      "outputs": [
        {
          "output_type": "execute_result",
          "data": {
            "text/plain": [
              "   nbapersonid         player  draftyear  draftpick  season   nbateamid team  \\\n",
              "0         2585  Zaza Pachulia       2003       42.0    2007  1610612737  ATL   \n",
              "1       200780  Solomon Jones       2006       33.0    2007  1610612737  ATL   \n",
              "\n",
              "   games  games_start  mins  ...  blk_pct  tov_pct    usg  OWS  DWS   WS  \\\n",
              "0     62            5   944  ...    0.010    0.181  0.183  0.2  0.9  1.1   \n",
              "1     35            0   145  ...    0.026    0.221  0.156 -0.1  0.1  0.0   \n",
              "\n",
              "   OBPM  DBPM  BPM  VORP  \n",
              "0  -3.9  -1.3 -5.1  -0.7  \n",
              "1  -6.7  -2.0 -8.8  -0.2  \n",
              "\n",
              "[2 rows x 49 columns]"
            ],
            "text/html": [
              "\n",
              "  <div id=\"df-d9c9e77a-a4d5-451a-9cbb-94b77b7bc699\" class=\"colab-df-container\">\n",
              "    <div>\n",
              "<style scoped>\n",
              "    .dataframe tbody tr th:only-of-type {\n",
              "        vertical-align: middle;\n",
              "    }\n",
              "\n",
              "    .dataframe tbody tr th {\n",
              "        vertical-align: top;\n",
              "    }\n",
              "\n",
              "    .dataframe thead th {\n",
              "        text-align: right;\n",
              "    }\n",
              "</style>\n",
              "<table border=\"1\" class=\"dataframe\">\n",
              "  <thead>\n",
              "    <tr style=\"text-align: right;\">\n",
              "      <th></th>\n",
              "      <th>nbapersonid</th>\n",
              "      <th>player</th>\n",
              "      <th>draftyear</th>\n",
              "      <th>draftpick</th>\n",
              "      <th>season</th>\n",
              "      <th>nbateamid</th>\n",
              "      <th>team</th>\n",
              "      <th>games</th>\n",
              "      <th>games_start</th>\n",
              "      <th>mins</th>\n",
              "      <th>...</th>\n",
              "      <th>blk_pct</th>\n",
              "      <th>tov_pct</th>\n",
              "      <th>usg</th>\n",
              "      <th>OWS</th>\n",
              "      <th>DWS</th>\n",
              "      <th>WS</th>\n",
              "      <th>OBPM</th>\n",
              "      <th>DBPM</th>\n",
              "      <th>BPM</th>\n",
              "      <th>VORP</th>\n",
              "    </tr>\n",
              "  </thead>\n",
              "  <tbody>\n",
              "    <tr>\n",
              "      <th>0</th>\n",
              "      <td>2585</td>\n",
              "      <td>Zaza Pachulia</td>\n",
              "      <td>2003</td>\n",
              "      <td>42.0</td>\n",
              "      <td>2007</td>\n",
              "      <td>1610612737</td>\n",
              "      <td>ATL</td>\n",
              "      <td>62</td>\n",
              "      <td>5</td>\n",
              "      <td>944</td>\n",
              "      <td>...</td>\n",
              "      <td>0.010</td>\n",
              "      <td>0.181</td>\n",
              "      <td>0.183</td>\n",
              "      <td>0.2</td>\n",
              "      <td>0.9</td>\n",
              "      <td>1.1</td>\n",
              "      <td>-3.9</td>\n",
              "      <td>-1.3</td>\n",
              "      <td>-5.1</td>\n",
              "      <td>-0.7</td>\n",
              "    </tr>\n",
              "    <tr>\n",
              "      <th>1</th>\n",
              "      <td>200780</td>\n",
              "      <td>Solomon Jones</td>\n",
              "      <td>2006</td>\n",
              "      <td>33.0</td>\n",
              "      <td>2007</td>\n",
              "      <td>1610612737</td>\n",
              "      <td>ATL</td>\n",
              "      <td>35</td>\n",
              "      <td>0</td>\n",
              "      <td>145</td>\n",
              "      <td>...</td>\n",
              "      <td>0.026</td>\n",
              "      <td>0.221</td>\n",
              "      <td>0.156</td>\n",
              "      <td>-0.1</td>\n",
              "      <td>0.1</td>\n",
              "      <td>0.0</td>\n",
              "      <td>-6.7</td>\n",
              "      <td>-2.0</td>\n",
              "      <td>-8.8</td>\n",
              "      <td>-0.2</td>\n",
              "    </tr>\n",
              "  </tbody>\n",
              "</table>\n",
              "<p>2 rows × 49 columns</p>\n",
              "</div>\n",
              "    <div class=\"colab-df-buttons\">\n",
              "\n",
              "  <div class=\"colab-df-container\">\n",
              "    <button class=\"colab-df-convert\" onclick=\"convertToInteractive('df-d9c9e77a-a4d5-451a-9cbb-94b77b7bc699')\"\n",
              "            title=\"Convert this dataframe to an interactive table.\"\n",
              "            style=\"display:none;\">\n",
              "\n",
              "  <svg xmlns=\"http://www.w3.org/2000/svg\" height=\"24px\" viewBox=\"0 -960 960 960\">\n",
              "    <path d=\"M120-120v-720h720v720H120Zm60-500h600v-160H180v160Zm220 220h160v-160H400v160Zm0 220h160v-160H400v160ZM180-400h160v-160H180v160Zm440 0h160v-160H620v160ZM180-180h160v-160H180v160Zm440 0h160v-160H620v160Z\"/>\n",
              "  </svg>\n",
              "    </button>\n",
              "\n",
              "  <style>\n",
              "    .colab-df-container {\n",
              "      display:flex;\n",
              "      gap: 12px;\n",
              "    }\n",
              "\n",
              "    .colab-df-convert {\n",
              "      background-color: #E8F0FE;\n",
              "      border: none;\n",
              "      border-radius: 50%;\n",
              "      cursor: pointer;\n",
              "      display: none;\n",
              "      fill: #1967D2;\n",
              "      height: 32px;\n",
              "      padding: 0 0 0 0;\n",
              "      width: 32px;\n",
              "    }\n",
              "\n",
              "    .colab-df-convert:hover {\n",
              "      background-color: #E2EBFA;\n",
              "      box-shadow: 0px 1px 2px rgba(60, 64, 67, 0.3), 0px 1px 3px 1px rgba(60, 64, 67, 0.15);\n",
              "      fill: #174EA6;\n",
              "    }\n",
              "\n",
              "    .colab-df-buttons div {\n",
              "      margin-bottom: 4px;\n",
              "    }\n",
              "\n",
              "    [theme=dark] .colab-df-convert {\n",
              "      background-color: #3B4455;\n",
              "      fill: #D2E3FC;\n",
              "    }\n",
              "\n",
              "    [theme=dark] .colab-df-convert:hover {\n",
              "      background-color: #434B5C;\n",
              "      box-shadow: 0px 1px 3px 1px rgba(0, 0, 0, 0.15);\n",
              "      filter: drop-shadow(0px 1px 2px rgba(0, 0, 0, 0.3));\n",
              "      fill: #FFFFFF;\n",
              "    }\n",
              "  </style>\n",
              "\n",
              "    <script>\n",
              "      const buttonEl =\n",
              "        document.querySelector('#df-d9c9e77a-a4d5-451a-9cbb-94b77b7bc699 button.colab-df-convert');\n",
              "      buttonEl.style.display =\n",
              "        google.colab.kernel.accessAllowed ? 'block' : 'none';\n",
              "\n",
              "      async function convertToInteractive(key) {\n",
              "        const element = document.querySelector('#df-d9c9e77a-a4d5-451a-9cbb-94b77b7bc699');\n",
              "        const dataTable =\n",
              "          await google.colab.kernel.invokeFunction('convertToInteractive',\n",
              "                                                    [key], {});\n",
              "        if (!dataTable) return;\n",
              "\n",
              "        const docLinkHtml = 'Like what you see? Visit the ' +\n",
              "          '<a target=\"_blank\" href=https://colab.research.google.com/notebooks/data_table.ipynb>data table notebook</a>'\n",
              "          + ' to learn more about interactive tables.';\n",
              "        element.innerHTML = '';\n",
              "        dataTable['output_type'] = 'display_data';\n",
              "        await google.colab.output.renderOutput(dataTable, element);\n",
              "        const docLink = document.createElement('div');\n",
              "        docLink.innerHTML = docLinkHtml;\n",
              "        element.appendChild(docLink);\n",
              "      }\n",
              "    </script>\n",
              "  </div>\n",
              "\n",
              "    </div>\n",
              "  </div>\n"
            ]
          },
          "metadata": {},
          "execution_count": 25
        }
      ]
    },
    {
      "cell_type": "code",
      "source": [
        "awards.head(2)"
      ],
      "metadata": {
        "colab": {
          "base_uri": "https://localhost:8080/",
          "height": 231
        },
        "id": "MO4mUmHCwsqY",
        "outputId": "3db05662-c03d-4178-d62f-7df0f7545e98"
      },
      "execution_count": null,
      "outputs": [
        {
          "output_type": "execute_result",
          "data": {
            "text/plain": [
              "   season  nbapersonid  All NBA Defensive First Team  \\\n",
              "0    2007        708.0                           1.0   \n",
              "1    2007        947.0                           0.0   \n",
              "\n",
              "   All NBA Defensive Second Team  All NBA First Team  All NBA Second Team  \\\n",
              "0                            0.0                 1.0                  0.0   \n",
              "1                            0.0                 0.0                  0.0   \n",
              "\n",
              "   All NBA Third Team  All Rookie First Team  All Rookie Second Team  \\\n",
              "0                 0.0                    0.0                     0.0   \n",
              "1                 0.0                    0.0                     0.0   \n",
              "\n",
              "   Bill Russell NBA Finals MVP  ...  all_star_game  rookie_all_star_game  \\\n",
              "0                          0.0  ...           True                 False   \n",
              "1                          0.0  ...           True                 False   \n",
              "\n",
              "   allstar_rk Defensive Player Of The Year_rk Most Improved Player_rk  \\\n",
              "0         1.0                             1.0                     NaN   \n",
              "1         2.0                             NaN                     NaN   \n",
              "\n",
              "   Most Valuable Player_rk  Rookie Of The Year_rk  Sixth Man Of The Year_rk  \\\n",
              "0                      3.0                    NaN                       NaN   \n",
              "1                      NaN                    NaN                       NaN   \n",
              "\n",
              "   all_nba_points_rk  all_rookie_points_rk  \n",
              "0                NaN                   NaN  \n",
              "1                NaN                   NaN  \n",
              "\n",
              "[2 rows x 23 columns]"
            ],
            "text/html": [
              "\n",
              "  <div id=\"df-00773d69-fa5a-4d88-94ab-2656c616c5f6\" class=\"colab-df-container\">\n",
              "    <div>\n",
              "<style scoped>\n",
              "    .dataframe tbody tr th:only-of-type {\n",
              "        vertical-align: middle;\n",
              "    }\n",
              "\n",
              "    .dataframe tbody tr th {\n",
              "        vertical-align: top;\n",
              "    }\n",
              "\n",
              "    .dataframe thead th {\n",
              "        text-align: right;\n",
              "    }\n",
              "</style>\n",
              "<table border=\"1\" class=\"dataframe\">\n",
              "  <thead>\n",
              "    <tr style=\"text-align: right;\">\n",
              "      <th></th>\n",
              "      <th>season</th>\n",
              "      <th>nbapersonid</th>\n",
              "      <th>All NBA Defensive First Team</th>\n",
              "      <th>All NBA Defensive Second Team</th>\n",
              "      <th>All NBA First Team</th>\n",
              "      <th>All NBA Second Team</th>\n",
              "      <th>All NBA Third Team</th>\n",
              "      <th>All Rookie First Team</th>\n",
              "      <th>All Rookie Second Team</th>\n",
              "      <th>Bill Russell NBA Finals MVP</th>\n",
              "      <th>...</th>\n",
              "      <th>all_star_game</th>\n",
              "      <th>rookie_all_star_game</th>\n",
              "      <th>allstar_rk</th>\n",
              "      <th>Defensive Player Of The Year_rk</th>\n",
              "      <th>Most Improved Player_rk</th>\n",
              "      <th>Most Valuable Player_rk</th>\n",
              "      <th>Rookie Of The Year_rk</th>\n",
              "      <th>Sixth Man Of The Year_rk</th>\n",
              "      <th>all_nba_points_rk</th>\n",
              "      <th>all_rookie_points_rk</th>\n",
              "    </tr>\n",
              "  </thead>\n",
              "  <tbody>\n",
              "    <tr>\n",
              "      <th>0</th>\n",
              "      <td>2007</td>\n",
              "      <td>708.0</td>\n",
              "      <td>1.0</td>\n",
              "      <td>0.0</td>\n",
              "      <td>1.0</td>\n",
              "      <td>0.0</td>\n",
              "      <td>0.0</td>\n",
              "      <td>0.0</td>\n",
              "      <td>0.0</td>\n",
              "      <td>0.0</td>\n",
              "      <td>...</td>\n",
              "      <td>True</td>\n",
              "      <td>False</td>\n",
              "      <td>1.0</td>\n",
              "      <td>1.0</td>\n",
              "      <td>NaN</td>\n",
              "      <td>3.0</td>\n",
              "      <td>NaN</td>\n",
              "      <td>NaN</td>\n",
              "      <td>NaN</td>\n",
              "      <td>NaN</td>\n",
              "    </tr>\n",
              "    <tr>\n",
              "      <th>1</th>\n",
              "      <td>2007</td>\n",
              "      <td>947.0</td>\n",
              "      <td>0.0</td>\n",
              "      <td>0.0</td>\n",
              "      <td>0.0</td>\n",
              "      <td>0.0</td>\n",
              "      <td>0.0</td>\n",
              "      <td>0.0</td>\n",
              "      <td>0.0</td>\n",
              "      <td>0.0</td>\n",
              "      <td>...</td>\n",
              "      <td>True</td>\n",
              "      <td>False</td>\n",
              "      <td>2.0</td>\n",
              "      <td>NaN</td>\n",
              "      <td>NaN</td>\n",
              "      <td>NaN</td>\n",
              "      <td>NaN</td>\n",
              "      <td>NaN</td>\n",
              "      <td>NaN</td>\n",
              "      <td>NaN</td>\n",
              "    </tr>\n",
              "  </tbody>\n",
              "</table>\n",
              "<p>2 rows × 23 columns</p>\n",
              "</div>\n",
              "    <div class=\"colab-df-buttons\">\n",
              "\n",
              "  <div class=\"colab-df-container\">\n",
              "    <button class=\"colab-df-convert\" onclick=\"convertToInteractive('df-00773d69-fa5a-4d88-94ab-2656c616c5f6')\"\n",
              "            title=\"Convert this dataframe to an interactive table.\"\n",
              "            style=\"display:none;\">\n",
              "\n",
              "  <svg xmlns=\"http://www.w3.org/2000/svg\" height=\"24px\" viewBox=\"0 -960 960 960\">\n",
              "    <path d=\"M120-120v-720h720v720H120Zm60-500h600v-160H180v160Zm220 220h160v-160H400v160Zm0 220h160v-160H400v160ZM180-400h160v-160H180v160Zm440 0h160v-160H620v160ZM180-180h160v-160H180v160Zm440 0h160v-160H620v160Z\"/>\n",
              "  </svg>\n",
              "    </button>\n",
              "\n",
              "  <style>\n",
              "    .colab-df-container {\n",
              "      display:flex;\n",
              "      gap: 12px;\n",
              "    }\n",
              "\n",
              "    .colab-df-convert {\n",
              "      background-color: #E8F0FE;\n",
              "      border: none;\n",
              "      border-radius: 50%;\n",
              "      cursor: pointer;\n",
              "      display: none;\n",
              "      fill: #1967D2;\n",
              "      height: 32px;\n",
              "      padding: 0 0 0 0;\n",
              "      width: 32px;\n",
              "    }\n",
              "\n",
              "    .colab-df-convert:hover {\n",
              "      background-color: #E2EBFA;\n",
              "      box-shadow: 0px 1px 2px rgba(60, 64, 67, 0.3), 0px 1px 3px 1px rgba(60, 64, 67, 0.15);\n",
              "      fill: #174EA6;\n",
              "    }\n",
              "\n",
              "    .colab-df-buttons div {\n",
              "      margin-bottom: 4px;\n",
              "    }\n",
              "\n",
              "    [theme=dark] .colab-df-convert {\n",
              "      background-color: #3B4455;\n",
              "      fill: #D2E3FC;\n",
              "    }\n",
              "\n",
              "    [theme=dark] .colab-df-convert:hover {\n",
              "      background-color: #434B5C;\n",
              "      box-shadow: 0px 1px 3px 1px rgba(0, 0, 0, 0.15);\n",
              "      filter: drop-shadow(0px 1px 2px rgba(0, 0, 0, 0.3));\n",
              "      fill: #FFFFFF;\n",
              "    }\n",
              "  </style>\n",
              "\n",
              "    <script>\n",
              "      const buttonEl =\n",
              "        document.querySelector('#df-00773d69-fa5a-4d88-94ab-2656c616c5f6 button.colab-df-convert');\n",
              "      buttonEl.style.display =\n",
              "        google.colab.kernel.accessAllowed ? 'block' : 'none';\n",
              "\n",
              "      async function convertToInteractive(key) {\n",
              "        const element = document.querySelector('#df-00773d69-fa5a-4d88-94ab-2656c616c5f6');\n",
              "        const dataTable =\n",
              "          await google.colab.kernel.invokeFunction('convertToInteractive',\n",
              "                                                    [key], {});\n",
              "        if (!dataTable) return;\n",
              "\n",
              "        const docLinkHtml = 'Like what you see? Visit the ' +\n",
              "          '<a target=\"_blank\" href=https://colab.research.google.com/notebooks/data_table.ipynb>data table notebook</a>'\n",
              "          + ' to learn more about interactive tables.';\n",
              "        element.innerHTML = '';\n",
              "        dataTable['output_type'] = 'display_data';\n",
              "        await google.colab.output.renderOutput(dataTable, element);\n",
              "        const docLink = document.createElement('div');\n",
              "        docLink.innerHTML = docLinkHtml;\n",
              "        element.appendChild(docLink);\n",
              "      }\n",
              "    </script>\n",
              "  </div>\n",
              "\n",
              "    </div>\n",
              "  </div>\n"
            ]
          },
          "metadata": {},
          "execution_count": 24
        }
      ]
    },
    {
      "cell_type": "markdown",
      "source": [
        "- Here are the datasets we are using. player_data is a dataset from NBA.com that has individualized season data for every player in the NBA. This dataset is on a season-by-season basis, meaning there is a row of data including all of the players' stats (points, games played, etc) for every season that a player has played. So if a player has been in the NBA for five years, then he has five rows of data in the dataset.\n",
        "- The awards dataset is also from NBA.com and is also on a season by season basis. This dataset contains all of the awards that a player has obtained in each season (All NBA First team, MVP, DPOY, etc.)."
      ],
      "metadata": {
        "id": "bBYWpvayszy8"
      }
    },
    {
      "cell_type": "markdown",
      "source": [
        "I first need to determine which players will be in each career outcome. Because this dataset is a on a season by season basis, this job requires a considerable amount of code:"
      ],
      "metadata": {
        "id": "lBsrBiP4tTJk"
      }
    },
    {
      "cell_type": "markdown",
      "source": [
        "#### Data Preparation"
      ],
      "metadata": {
        "id": "VX2sPc0oxAb0"
      }
    },
    {
      "cell_type": "code",
      "source": [
        "# CREATING DATSET FOR THE MODEL\n",
        "\n",
        "player_data_temp4 = player_data.copy() # Creates copy of player_data\n",
        "awards_temp4 = awards.copy() # Creates copy of awards\n",
        "\n",
        "player_data_temp4 = pd.merge(player_data_temp4, awards_temp4, on=['season', 'nbapersonid'], how='left') # merges player_data and awards so that they are in the same dataframe an in the correct row.\n",
        "player_data_temp4 = player_data_temp4[player_data_temp4['draftyear']<=2015] # ALL DRAFT YEARS IN OR BEFORE 2015. THIS IS THE ONLY DIFFERENCE FROM QUESTION 3\n",
        "def is_elite(row): # true if elite\n",
        "    return row['All NBA First Team'] == 1 or row['All NBA Second Team'] == 1 or row['All NBA Third Team'] == 1 or row['Most Valuable Player_rk'] == 1 or row ['Defensive Player Of The Year_rk'] == 1\n",
        "def is_starter(row): # true if starter\n",
        "    if row['season'] == 2011:\n",
        "        return row['games_start'] >= 33 or row['mins'] >= 1610\n",
        "    elif row['season'] == 2019 or row['season'] == 2020:\n",
        "        return row['games_start'] >= 36 or row['mins'] >= 1757\n",
        "    else:\n",
        "        return row['games_start'] >=41 or row['mins'] >=2000\n",
        "def is_rotation(row): # true if rotation players\n",
        "    if row['season'] == 2011:\n",
        "        return row['mins'] >=865\n",
        "    elif row['season'] == 2019 or row['season'] == 2020:\n",
        "        return row['mins'] >=879\n",
        "    else:\n",
        "        return row['mins'] >= 1000\n",
        "def is_out_of_league(row): # True if out of the league\n",
        "    return row['mins'] == 0 or row['games'] ==0\n",
        "player_data_temp4['elite'] = player_data_temp4.apply(is_elite, axis=1)\n",
        "player_data_temp4['all star'] = player_data_temp4['all_star_game'] == 1\n",
        "player_data_temp4['starter'] = player_data_temp4.apply(is_starter, axis=1)\n",
        "player_data_temp4['rotation'] = player_data_temp4.apply(is_rotation, axis=1)\n",
        "player_data_temp4['roster'] = player_data_temp4['mins'] >=1\n",
        "player_data_temp4['out of the league'] = player_data_temp4.apply(is_out_of_league, axis=1)\n",
        "label_order = ['elite', 'all star', 'starter', 'rotation', 'roster', 'out of the league'] # gives the label order\n",
        "player_data_temp4['highest label'] = player_data_temp4[label_order].idxmax(axis=1) # only keeps the highest label (elite>allstar>starter etc.)\n",
        "career_outcomes = (\n",
        "    player_data_temp4.groupby('player')['highest label'] # groups by player name\n",
        "    .apply(lambda x: x.value_counts().index[0] if len(x) >= 2 else None) # Checks if a player achieved a certain label for 2 years\n",
        "    .value_counts() # counts occurences of each CAREER OUTCOME\n",
        "    .reindex(label_order)\n",
        "    .fillna(0)\n",
        ")\n",
        "career_outcomes['out of the league'] = 1500-(career_outcomes['elite'] +career_outcomes['all star']+career_outcomes['starter']+career_outcomes['rotation']+career_outcomes['roster'])"
      ],
      "metadata": {
        "id": "OGmmS-Kdqrla"
      },
      "execution_count": null,
      "outputs": []
    },
    {
      "cell_type": "code",
      "source": [
        "# CREATING DATSET FOR THE MODEL.\n",
        "\n",
        "player_data_temp5 = player_data.copy() # Creates copy of player_data\n",
        "awards_temp5 = awards.copy() # Creates copy of awards\n",
        "\n",
        "player_data_temp5 = pd.merge(player_data_temp5, awards_temp5, on=['season', 'nbapersonid'], how='left') # merges player_data and awards so that they are in the same dataframe an in the correct row.\n",
        "def is_elite(row): # true if elite\n",
        "    return row['All NBA First Team'] == 1 or row['All NBA Second Team'] == 1 or row['All NBA Third Team'] == 1 or row['Most Valuable Player_rk'] == 1 or row ['Defensive Player Of The Year_rk'] == 1\n",
        "def is_starter(row): # true if starter\n",
        "    if row['season'] == 2011:\n",
        "        return row['games_start'] >= 33 or row['mins'] >= 1610\n",
        "    elif row['season'] == 2019 or row['season'] == 2020:\n",
        "        return row['games_start'] >= 36 or row['mins'] >= 1757\n",
        "    else:\n",
        "        return row['games_start'] >=41 or row['mins'] >=2000\n",
        "def is_rotation(row): # true if rotation players\n",
        "    if row['season'] == 2011:\n",
        "        return row['mins'] >=865\n",
        "    elif row['season'] == 2019 or row['season'] == 2020:\n",
        "        return row['mins'] >=879\n",
        "    else:\n",
        "        return row['mins'] >= 1000\n",
        "def is_out_of_league(row): # True if out of the league\n",
        "    return row['mins'] == 0 or row['games'] ==0\n",
        "player_data_temp5['elite'] = player_data_temp5.apply(is_elite, axis=1)\n",
        "player_data_temp5['all star'] = player_data_temp5['all_star_game'] == 1\n",
        "player_data_temp5['starter'] = player_data_temp5.apply(is_starter, axis=1)\n",
        "player_data_temp5['rotation'] = player_data_temp5.apply(is_rotation, axis=1)\n",
        "player_data_temp5['roster'] = player_data_temp5['mins'] >=1\n",
        "player_data_temp5['out of the league'] = player_data_temp5.apply(is_out_of_league, axis=1)\n",
        "label_order = ['elite', 'all star', 'starter', 'rotation', 'roster', 'out of the league'] # gives the label order\n",
        "player_data_temp5['highest label'] = player_data_temp5[label_order].idxmax(axis=1) # only keeps the highest label (elite>allstar>starter etc.)\n",
        "career_outcomes1 = (\n",
        "    player_data_temp5.groupby('player')['highest label'] # groups by player name\n",
        "    .apply(lambda x: x.value_counts().index[0] if len(x) >= 2 else None) # Checks if a player achieved a certain label for 2 years\n",
        "    .value_counts() # counts occurences of each CAREER OUTCOME\n",
        "    .reindex(label_order)\n",
        "    .fillna(0)\n",
        ")\n",
        "career_outcomes1['out of the league'] = 1500-(career_outcomes1['elite'] +career_outcomes1['all star']+career_outcomes1['starter']+career_outcomes1['rotation']+career_outcomes1['roster'])"
      ],
      "metadata": {
        "id": "Sez4fMKNqymg"
      },
      "execution_count": null,
      "outputs": []
    },
    {
      "cell_type": "markdown",
      "source": [
        "Now, here is the actual model. The first step is to train the model, and tell our model which features from the dataset we want to use to predict career outcomes."
      ],
      "metadata": {
        "id": "101ZvXzfteHo"
      }
    },
    {
      "cell_type": "markdown",
      "source": [
        "#### Model Training and Predictions"
      ],
      "metadata": {
        "id": "pdr2SM4DxFqS"
      }
    },
    {
      "cell_type": "code",
      "source": [
        "from sklearn.model_selection import train_test_split\n",
        "from sklearn.linear_model import LogisticRegression\n",
        "from sklearn.preprocessing import StandardScaler\n",
        "from sklearn.metrics import classification_report\n",
        "\n",
        "###############################\n",
        "###############################\n",
        "# FEATURES AND TARGET\n",
        "###############################\n",
        "###############################\n",
        "\n",
        "# CREATE NEW DATAFRAME\n",
        "player_data6 = player_data_temp4.copy() # Create copy of player_data_temp4\n",
        "player_data6['ppg'] = player_data6['points']/player_data6['games'] # create points per game column which will be used for training\n",
        "\n",
        "# CREATE FEATURES AND TARGET\n",
        "features = ['ppg', 'WS', 'VORP', 'BPM','usg','efg', 'PER', 'draftpick'] # Features that the model will be trained on\n",
        "target = 'highest label' # The column we are trying to predict\n",
        "\n",
        "# DATA FILTERING\n",
        "filtered_data = player_data6[player_data6['draftyear'] <= 2015]\n",
        "player_name_counts = filtered_data['player'].value_counts()\n",
        "# Filter players who appear at least 7 times\n",
        "players_appearing_seven_or_more_times = player_name_counts[player_name_counts >= 7].index\n",
        "filtered_data = filtered_data[filtered_data['player'].isin(players_appearing_seven_or_more_times)]\n",
        "# Drop rows with missing values in selected features\n",
        "filtered_data = filtered_data.dropna(subset=features)\n",
        "\n",
        "###############################\n",
        "###############################\n",
        "# MODEL TRAINING\n",
        "###############################\n",
        "###############################\n",
        "\n",
        "X_train, X_test, y_train, y_test = train_test_split(filtered_data[features], filtered_data[target], test_size=0.2, random_state=42)\n",
        "# Standardize features\n",
        "scaler = StandardScaler() # standarize\n",
        "X_train_scaled = scaler.fit_transform(X_train)\n",
        "X_test_scaled = scaler.transform(X_test)\n",
        "# Multi-class logistic regression model\n",
        "model = LogisticRegression(max_iter=1000, multi_class='ovr', random_state=50)\n",
        "model.fit(X_train_scaled, y_train)\n",
        "# Make predictions\n",
        "y_pred = model.predict(X_test_scaled)\n",
        "# Evaluate the model\n",
        "print(classification_report(y_test, y_pred))"
      ],
      "metadata": {
        "colab": {
          "base_uri": "https://localhost:8080/"
        },
        "id": "SybdnqRjrEmh",
        "outputId": "77c7e8af-4935-4592-cbd2-15ba4fda9f0c"
      },
      "execution_count": null,
      "outputs": [
        {
          "output_type": "stream",
          "name": "stdout",
          "text": [
            "              precision    recall  f1-score   support\n",
            "\n",
            "    all star       0.50      0.03      0.05        35\n",
            "       elite       0.89      0.65      0.75        51\n",
            "      roster       0.77      0.96      0.86       321\n",
            "    rotation       0.91      0.29      0.44       198\n",
            "     starter       0.66      0.90      0.76       285\n",
            "\n",
            "    accuracy                           0.74       890\n",
            "   macro avg       0.75      0.57      0.57       890\n",
            "weighted avg       0.76      0.74      0.70       890\n",
            "\n"
          ]
        }
      ]
    },
    {
      "cell_type": "markdown",
      "source": [
        "Now, we are done training, and we need to actually predict the career outcomes of players. I chose Luka Doncic, Zion Williamson, James Wiseman, Josh Giddey, and Shai Gilgeous-Alexander because these five players provide a wide range of expected career outcomes."
      ],
      "metadata": {
        "id": "E8UTRZk0t7R3"
      }
    },
    {
      "cell_type": "code",
      "source": [
        "###############################\n",
        "###############################\n",
        "# Predicting Player Outcomes\n",
        "###############################\n",
        "###############################\n",
        "\n",
        "career_outcomes1 = career_outcomes1.drop('out of the league')\n",
        "players_to_predict = ['Luka Doncic', 'Zion Williamson', 'James Wiseman', 'Josh Giddey', 'Shai Gilgeous-Alexander'] # the four players we are seaching for in this section\n",
        "new_players_data = player_data_temp5.copy() # Create copy of player_data_temp5\n",
        "new_players_data = new_players_data[new_players_data['draftyear'] >= 2018] # Filter only players drafted after 2018\n",
        "new_players_data['ppg'] = new_players_data['points']/new_players_data['games'] # Create points per game column\n",
        "PLAYER = 'Ja Morant'\n",
        "\n",
        "for PLAYER in players_to_predict:\n",
        "    player_features = new_players_data[new_players_data['player'] == PLAYER][features] # take the features of the current player\n",
        "    player_features = player_features.dropna() # drop n/a\n",
        "    player_features_scaled = scaler.transform(player_features) # standardize\n",
        "    player_predicted_probs = model.predict_proba(player_features_scaled) # predict\n",
        "\n",
        "    print(\"Predicted Probabilities for \" + PLAYER) # print for visualization\n",
        "    for outcome, prob in zip(career_outcomes1.index, player_predicted_probs[0]):\n",
        "        outcome_label = outcome.capitalize() if isinstance(outcome, str) else outcome\n",
        "        print(f\"{outcome_label}: {prob:.2f}\")\n",
        "\n",
        "    # VISUALIZATION\n",
        "    plt.figure(figsize=(5, 3))\n",
        "    plt.bar(career_outcomes1.index, player_predicted_probs[0])\n",
        "    plt.xlabel(\"Career Outcomes\")\n",
        "    plt.ylabel(\"Predicted Probability\")\n",
        "    plt.title(\"Predicted Probabilities for \" + PLAYER)\n",
        "    plt.ylim(0, 1)  # Set y-axis limit between 0 and 1\n",
        "    plt.show()"
      ],
      "metadata": {
        "colab": {
          "base_uri": "https://localhost:8080/",
          "height": 1000
        },
        "id": "XhKJ1QQ9rIv-",
        "outputId": "0ab539e8-2544-4c4e-a167-a75a5d4e8d90"
      },
      "execution_count": null,
      "outputs": [
        {
          "output_type": "stream",
          "name": "stdout",
          "text": [
            "Predicted Probabilities for Luka Doncic\n",
            "Elite: 0.21\n",
            "All star: 0.77\n",
            "Starter: 0.01\n",
            "Rotation: 0.00\n",
            "Roster: 0.01\n"
          ]
        },
        {
          "output_type": "display_data",
          "data": {
            "text/plain": [
              "<Figure size 500x300 with 1 Axes>"
            ],
            "image/png": "[encoded data removed]"
          },
          "metadata": {}
        },
        {
          "output_type": "stream",
          "name": "stdout",
          "text": [
            "Predicted Probabilities for Zion Williamson\n",
            "Elite: 0.11\n",
            "All star: 0.01\n",
            "Starter: 0.53\n",
            "Rotation: 0.10\n",
            "Roster: 0.25\n"
          ]
        },
        {
          "output_type": "display_data",
          "data": {
            "text/plain": [
              "<Figure size 500x300 with 1 Axes>"
            ],
            "image/png": "[encoded data removed]"
          },
          "metadata": {}
        },
        {
          "output_type": "stream",
          "name": "stdout",
          "text": [
            "Predicted Probabilities for James Wiseman\n",
            "Elite: 0.01\n",
            "All star: 0.00\n",
            "Starter: 0.65\n",
            "Rotation: 0.22\n",
            "Roster: 0.13\n"
          ]
        },
        {
          "output_type": "display_data",
          "data": {
            "text/plain": [
              "<Figure size 500x300 with 1 Axes>"
            ],
            "image/png": "[encoded data removed]"
          },
          "metadata": {}
        },
        {
          "output_type": "stream",
          "name": "stdout",
          "text": [
            "Predicted Probabilities for Josh Giddey\n",
            "Elite: 0.02\n",
            "All star: 0.00\n",
            "Starter: 0.81\n",
            "Rotation: 0.08\n",
            "Roster: 0.09\n"
          ]
        },
        {
          "output_type": "display_data",
          "data": {
            "text/plain": [
              "<Figure size 500x300 with 1 Axes>"
            ],
            "image/png": "[encoded data removed]"
          },
          "metadata": {}
        },
        {
          "output_type": "stream",
          "name": "stdout",
          "text": [
            "Predicted Probabilities for Shai Gilgeous-Alexander\n",
            "Elite: 0.03\n",
            "All star: 0.00\n",
            "Starter: 0.03\n",
            "Rotation: 0.31\n",
            "Roster: 0.63\n"
          ]
        },
        {
          "output_type": "display_data",
          "data": {
            "text/plain": [
              "<Figure size 500x300 with 1 Axes>"
            ],
            "image/png": "[encoded data removed]"
          },
          "metadata": {}
        }
      ]
    },
    {
      "cell_type": "markdown",
      "source": [
        "Here is a dataframe with all of the players who were drafted in or after 2018"
      ],
      "metadata": {
        "id": "rwa9kYfHuI-F"
      }
    },
    {
      "cell_type": "code",
      "source": [
        "#########################################\n",
        "#########################################\n",
        "# Create Career Outcome for Every Player\n",
        "#########################################\n",
        "#########################################\n",
        "\n",
        "# Create an empty list to store predicted probabilities for all players\n",
        "all_players_predicted_probs = []\n",
        "\n",
        "for player_name in new_players_data['player']: # for each player\n",
        "    player_features = new_players_data[new_players_data['player'] == player_name][features]\n",
        "    player_features = player_features.dropna()\n",
        "\n",
        "    if not player_features.empty:\n",
        "        player_features_scaled = scaler.transform(player_features)\n",
        "        player_predicted_probs = model.predict_proba(player_features_scaled)\n",
        "        player_probs = [player_name] + list(player_predicted_probs[0])\n",
        "        all_players_predicted_probs.extend([player_probs])\n",
        "# Create a DataFrame using the list of predicted probabilities\n",
        "columns = ['player'] + list(career_outcomes1.index)\n",
        "all_players_predicted_probs_df = pd.DataFrame(all_players_predicted_probs, columns=columns)\n",
        "# Display the DataFrame with predicted probabilities for all players\n",
        "all_players_predicted_probs_df"
      ],
      "metadata": {
        "colab": {
          "base_uri": "https://localhost:8080/",
          "height": 424
        },
        "id": "xKA4N0-brMap",
        "outputId": "c456a60b-59e9-4f8f-bc90-071f323940f4"
      },
      "execution_count": null,
      "outputs": [
        {
          "output_type": "execute_result",
          "data": {
            "text/plain": [
              "             player     elite  all star   starter  rotation    roster\n",
              "0        Trae Young  0.125299  0.010961  0.008770  0.188210  0.666761\n",
              "1    Omari Spellman  0.002765  0.000046  0.743831  0.160928  0.092431\n",
              "2     Kevin Huerter  0.009536  0.000102  0.129735  0.305274  0.555353\n",
              "3       Džanan Musa  0.000180  0.000235  0.795744  0.203083  0.000757\n",
              "4    Rodions Kurucs  0.003955  0.000170  0.231814  0.432012  0.332049\n",
              "..              ...       ...       ...       ...       ...       ...\n",
              "548     Isaiah Todd  0.000564  0.000022  0.880957  0.110680  0.007776\n",
              "549     Deni Avdija  0.006442  0.000027  0.120143  0.318635  0.554753\n",
              "550  Daniel Gafford  0.000356  0.000157  0.801009  0.165803  0.032676\n",
              "551   Alize Johnson  0.000470  0.000005  0.942546  0.040730  0.016249\n",
              "552   Corey Kispert  0.007077  0.000183  0.053988  0.375860  0.562892\n",
              "\n",
              "[553 rows x 6 columns]"
            ],
            "text/html": [
              "\n",
              "  <div id=\"df-4b013d11-1ed3-49c4-b383-1417df9eabad\" class=\"colab-df-container\">\n",
              "    <div>\n",
              "<style scoped>\n",
              "    .dataframe tbody tr th:only-of-type {\n",
              "        vertical-align: middle;\n",
              "    }\n",
              "\n",
              "    .dataframe tbody tr th {\n",
              "        vertical-align: top;\n",
              "    }\n",
              "\n",
              "    .dataframe thead th {\n",
              "        text-align: right;\n",
              "    }\n",
              "</style>\n",
              "<table border=\"1\" class=\"dataframe\">\n",
              "  <thead>\n",
              "    <tr style=\"text-align: right;\">\n",
              "      <th></th>\n",
              "      <th>player</th>\n",
              "      <th>elite</th>\n",
              "      <th>all star</th>\n",
              "      <th>starter</th>\n",
              "      <th>rotation</th>\n",
              "      <th>roster</th>\n",
              "    </tr>\n",
              "  </thead>\n",
              "  <tbody>\n",
              "    <tr>\n",
              "      <th>0</th>\n",
              "      <td>Trae Young</td>\n",
              "      <td>0.125299</td>\n",
              "      <td>0.010961</td>\n",
              "      <td>0.008770</td>\n",
              "      <td>0.188210</td>\n",
              "      <td>0.666761</td>\n",
              "    </tr>\n",
              "    <tr>\n",
              "      <th>1</th>\n",
              "      <td>Omari Spellman</td>\n",
              "      <td>0.002765</td>\n",
              "      <td>0.000046</td>\n",
              "      <td>0.743831</td>\n",
              "      <td>0.160928</td>\n",
              "      <td>0.092431</td>\n",
              "    </tr>\n",
              "    <tr>\n",
              "      <th>2</th>\n",
              "      <td>Kevin Huerter</td>\n",
              "      <td>0.009536</td>\n",
              "      <td>0.000102</td>\n",
              "      <td>0.129735</td>\n",
              "      <td>0.305274</td>\n",
              "      <td>0.555353</td>\n",
              "    </tr>\n",
              "    <tr>\n",
              "      <th>3</th>\n",
              "      <td>Džanan Musa</td>\n",
              "      <td>0.000180</td>\n",
              "      <td>0.000235</td>\n",
              "      <td>0.795744</td>\n",
              "      <td>0.203083</td>\n",
              "      <td>0.000757</td>\n",
              "    </tr>\n",
              "    <tr>\n",
              "      <th>4</th>\n",
              "      <td>Rodions Kurucs</td>\n",
              "      <td>0.003955</td>\n",
              "      <td>0.000170</td>\n",
              "      <td>0.231814</td>\n",
              "      <td>0.432012</td>\n",
              "      <td>0.332049</td>\n",
              "    </tr>\n",
              "    <tr>\n",
              "      <th>...</th>\n",
              "      <td>...</td>\n",
              "      <td>...</td>\n",
              "      <td>...</td>\n",
              "      <td>...</td>\n",
              "      <td>...</td>\n",
              "      <td>...</td>\n",
              "    </tr>\n",
              "    <tr>\n",
              "      <th>548</th>\n",
              "      <td>Isaiah Todd</td>\n",
              "      <td>0.000564</td>\n",
              "      <td>0.000022</td>\n",
              "      <td>0.880957</td>\n",
              "      <td>0.110680</td>\n",
              "      <td>0.007776</td>\n",
              "    </tr>\n",
              "    <tr>\n",
              "      <th>549</th>\n",
              "      <td>Deni Avdija</td>\n",
              "      <td>0.006442</td>\n",
              "      <td>0.000027</td>\n",
              "      <td>0.120143</td>\n",
              "      <td>0.318635</td>\n",
              "      <td>0.554753</td>\n",
              "    </tr>\n",
              "    <tr>\n",
              "      <th>550</th>\n",
              "      <td>Daniel Gafford</td>\n",
              "      <td>0.000356</td>\n",
              "      <td>0.000157</td>\n",
              "      <td>0.801009</td>\n",
              "      <td>0.165803</td>\n",
              "      <td>0.032676</td>\n",
              "    </tr>\n",
              "    <tr>\n",
              "      <th>551</th>\n",
              "      <td>Alize Johnson</td>\n",
              "      <td>0.000470</td>\n",
              "      <td>0.000005</td>\n",
              "      <td>0.942546</td>\n",
              "      <td>0.040730</td>\n",
              "      <td>0.016249</td>\n",
              "    </tr>\n",
              "    <tr>\n",
              "      <th>552</th>\n",
              "      <td>Corey Kispert</td>\n",
              "      <td>0.007077</td>\n",
              "      <td>0.000183</td>\n",
              "      <td>0.053988</td>\n",
              "      <td>0.375860</td>\n",
              "      <td>0.562892</td>\n",
              "    </tr>\n",
              "  </tbody>\n",
              "</table>\n",
              "<p>553 rows × 6 columns</p>\n",
              "</div>\n",
              "    <div class=\"colab-df-buttons\">\n",
              "\n",
              "  <div class=\"colab-df-container\">\n",
              "    <button class=\"colab-df-convert\" onclick=\"convertToInteractive('df-4b013d11-1ed3-49c4-b383-1417df9eabad')\"\n",
              "            title=\"Convert this dataframe to an interactive table.\"\n",
              "            style=\"display:none;\">\n",
              "\n",
              "  <svg xmlns=\"http://www.w3.org/2000/svg\" height=\"24px\" viewBox=\"0 -960 960 960\">\n",
              "    <path d=\"M120-120v-720h720v720H120Zm60-500h600v-160H180v160Zm220 220h160v-160H400v160Zm0 220h160v-160H400v160ZM180-400h160v-160H180v160Zm440 0h160v-160H620v160ZM180-180h160v-160H180v160Zm440 0h160v-160H620v160Z\"/>\n",
              "  </svg>\n",
              "    </button>\n",
              "\n",
              "  <style>\n",
              "    .colab-df-container {\n",
              "      display:flex;\n",
              "      gap: 12px;\n",
              "    }\n",
              "\n",
              "    .colab-df-convert {\n",
              "      background-color: #E8F0FE;\n",
              "      border: none;\n",
              "      border-radius: 50%;\n",
              "      cursor: pointer;\n",
              "      display: none;\n",
              "      fill: #1967D2;\n",
              "      height: 32px;\n",
              "      padding: 0 0 0 0;\n",
              "      width: 32px;\n",
              "    }\n",
              "\n",
              "    .colab-df-convert:hover {\n",
              "      background-color: #E2EBFA;\n",
              "      box-shadow: 0px 1px 2px rgba(60, 64, 67, 0.3), 0px 1px 3px 1px rgba(60, 64, 67, 0.15);\n",
              "      fill: #174EA6;\n",
              "    }\n",
              "\n",
              "    .colab-df-buttons div {\n",
              "      margin-bottom: 4px;\n",
              "    }\n",
              "\n",
              "    [theme=dark] .colab-df-convert {\n",
              "      background-color: #3B4455;\n",
              "      fill: #D2E3FC;\n",
              "    }\n",
              "\n",
              "    [theme=dark] .colab-df-convert:hover {\n",
              "      background-color: #434B5C;\n",
              "      box-shadow: 0px 1px 3px 1px rgba(0, 0, 0, 0.15);\n",
              "      filter: drop-shadow(0px 1px 2px rgba(0, 0, 0, 0.3));\n",
              "      fill: #FFFFFF;\n",
              "    }\n",
              "  </style>\n",
              "\n",
              "    <script>\n",
              "      const buttonEl =\n",
              "        document.querySelector('#df-4b013d11-1ed3-49c4-b383-1417df9eabad button.colab-df-convert');\n",
              "      buttonEl.style.display =\n",
              "        google.colab.kernel.accessAllowed ? 'block' : 'none';\n",
              "\n",
              "      async function convertToInteractive(key) {\n",
              "        const element = document.querySelector('#df-4b013d11-1ed3-49c4-b383-1417df9eabad');\n",
              "        const dataTable =\n",
              "          await google.colab.kernel.invokeFunction('convertToInteractive',\n",
              "                                                    [key], {});\n",
              "        if (!dataTable) return;\n",
              "\n",
              "        const docLinkHtml = 'Like what you see? Visit the ' +\n",
              "          '<a target=\"_blank\" href=https://colab.research.google.com/notebooks/data_table.ipynb>data table notebook</a>'\n",
              "          + ' to learn more about interactive tables.';\n",
              "        element.innerHTML = '';\n",
              "        dataTable['output_type'] = 'display_data';\n",
              "        await google.colab.output.renderOutput(dataTable, element);\n",
              "        const docLink = document.createElement('div');\n",
              "        docLink.innerHTML = docLinkHtml;\n",
              "        element.appendChild(docLink);\n",
              "      }\n",
              "    </script>\n",
              "  </div>\n",
              "\n",
              "\n",
              "<div id=\"df-fd70d1c9-68d3-466d-87e2-dacd151473d2\">\n",
              "  <button class=\"colab-df-quickchart\" onclick=\"quickchart('df-fd70d1c9-68d3-466d-87e2-dacd151473d2')\"\n",
              "            title=\"Suggest charts.\"\n",
              "            style=\"display:none;\">\n",
              "\n",
              "<svg xmlns=\"http://www.w3.org/2000/svg\" height=\"24px\"viewBox=\"0 0 24 24\"\n",
              "     width=\"24px\">\n",
              "    <g>\n",
              "        <path d=\"M19 3H5c-1.1 0-2 .9-2 2v14c0 1.1.9 2 2 2h14c1.1 0 2-.9 2-2V5c0-1.1-.9-2-2-2zM9 17H7v-7h2v7zm4 0h-2V7h2v10zm4 0h-2v-4h2v4z\"/>\n",
              "    </g>\n",
              "</svg>\n",
              "  </button>\n",
              "\n",
              "<style>\n",
              "  .colab-df-quickchart {\n",
              "    background-color: #E8F0FE;\n",
              "    border: none;\n",
              "    border-radius: 50%;\n",
              "    cursor: pointer;\n",
              "    display: none;\n",
              "    fill: #1967D2;\n",
              "    height: 32px;\n",
              "    padding: 0 0 0 0;\n",
              "    width: 32px;\n",
              "  }\n",
              "\n",
              "  .colab-df-quickchart:hover {\n",
              "    background-color: #E2EBFA;\n",
              "    box-shadow: 0px 1px 2px rgba(60, 64, 67, 0.3), 0px 1px 3px 1px rgba(60, 64, 67, 0.15);\n",
              "    fill: #174EA6;\n",
              "  }\n",
              "\n",
              "  [theme=dark] .colab-df-quickchart {\n",
              "    background-color: #3B4455;\n",
              "    fill: #D2E3FC;\n",
              "  }\n",
              "\n",
              "  [theme=dark] .colab-df-quickchart:hover {\n",
              "    background-color: #434B5C;\n",
              "    box-shadow: 0px 1px 3px 1px rgba(0, 0, 0, 0.15);\n",
              "    filter: drop-shadow(0px 1px 2px rgba(0, 0, 0, 0.3));\n",
              "    fill: #FFFFFF;\n",
              "  }\n",
              "</style>\n",
              "\n",
              "  <script>\n",
              "    async function quickchart(key) {\n",
              "      const charts = await google.colab.kernel.invokeFunction(\n",
              "          'suggestCharts', [key], {});\n",
              "    }\n",
              "    (() => {\n",
              "      let quickchartButtonEl =\n",
              "        document.querySelector('#df-fd70d1c9-68d3-466d-87e2-dacd151473d2 button');\n",
              "      quickchartButtonEl.style.display =\n",
              "        google.colab.kernel.accessAllowed ? 'block' : 'none';\n",
              "    })();\n",
              "  </script>\n",
              "</div>\n",
              "    </div>\n",
              "  </div>\n"
            ]
          },
          "metadata": {},
          "execution_count": 22
        }
      ]
    },
    {
      "cell_type": "markdown",
      "source": [
        "## **5.) CONCLUSION**"
      ],
      "metadata": {
        "id": "aJwnha0Zv8K0"
      }
    },
    {
      "cell_type": "markdown",
      "source": [
        "- Points per game is a great stat for rough measurements of scoring in the NBA, but when closer analysis of players is needed, it has many misleading properties.\n",
        "- Points per possession is a statistic that improves slightly on points per game by standardizing it, but there are still major flaws as players who take a large percentage of their team's shot attempts get a unproportional increase in their points per possession\n",
        "- **My new statistic True Points Per Posession Improves on both of these stats by standardizing points per game, and reducing the impact that taking a large percentage of a team's shot attempts has on points per possession.**\n",
        "\n",
        "- My player prediction model uses a realtively basic logistic regression technique and does a good job prediciting career outcomes for very very good players, and very very bad players. It is not great for players in the middle such as Shai Gilgeous-Alexander.'\n",
        "- There is A LOT of room to add more robustness, as this is a pretty basic model.\n",
        "\n",
        "*spreadsheets are from the following sources:*\n",
        "1. www.statmuse.com (paid)\n",
        "2. www.basketball-reference.com (free)\n",
        "3. www.NBA.com (free)"
      ],
      "metadata": {
        "id": "jpoDBQaqwGoh"
      }
    }
  ]
}